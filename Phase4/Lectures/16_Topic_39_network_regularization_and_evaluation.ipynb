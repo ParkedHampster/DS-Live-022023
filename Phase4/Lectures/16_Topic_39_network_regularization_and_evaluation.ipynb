{
 "cells": [
  {
   "cell_type": "markdown",
   "metadata": {
    "slideshow": {
     "slide_type": "slide"
    }
   },
   "source": [
    "# Regularization and Evaluation of Neural Networks"
   ]
  },
  {
   "cell_type": "code",
   "execution_count": 18,
   "metadata": {},
   "outputs": [
    {
     "name": "stdout",
     "output_type": "stream",
     "text": [
      "The autoreload extension is already loaded. To reload it, use:\n",
      "  %reload_ext autoreload\n"
     ]
    }
   ],
   "source": [
    "from sklearn.datasets import load_sample_images\n",
    "from sklearn.datasets import load_digits\n",
    "from sklearn.model_selection import train_test_split, cross_val_score\n",
    "from sklearn.preprocessing import OneHotEncoder\n",
    "from sklearn.metrics import accuracy_score, confusion_matrix\n",
    "import matplotlib.pyplot as plt\n",
    "import matplotlib.image as mpimg\n",
    "import numpy as np\n",
    "import seaborn as sns\n",
    "\n",
    "from tensorflow.keras.models import Sequential\n",
    "from tensorflow.keras.layers import Dense, Dropout\n",
    "from tensorflow.keras.regularizers import l2\n",
    "from tensorflow.keras.optimizers import SGD\n",
    "from tensorflow.keras.wrappers import scikit_learn\n",
    "from tensorflow.keras.callbacks import EarlyStopping\n",
    "\n",
    "import os\n",
    "import sys\n",
    "module_path = os.path.abspath(os.path.join(os.pardir, os.pardir))\n",
    "if module_path not in sys.path:\n",
    "    sys.path.append(module_path)\n",
    "    \n",
    "%load_ext autoreload\n",
    "%autoreload 2"
   ]
  },
  {
   "cell_type": "markdown",
   "metadata": {},
   "source": [
    "## Learning Objectives\n",
    "\n",
    "- use `keras` to code up a neural network model;\n",
    "- explain dropout and early stopping as distinctive forms of regularization in neural networks;\n",
    "- use wrappers inside `keras` to make models that can jibe with `sklearn`."
   ]
  },
  {
   "cell_type": "markdown",
   "metadata": {},
   "source": [
    "### From last time"
   ]
  },
  {
   "cell_type": "code",
   "execution_count": 19,
   "metadata": {},
   "outputs": [],
   "source": [
    "digits = load_digits()\n",
    "X = digits.data\n",
    "y = digits.target\n",
    "\n",
    "y_binary = y % 2"
   ]
  },
  {
   "cell_type": "code",
   "execution_count": 20,
   "metadata": {},
   "outputs": [
    {
     "name": "stdout",
     "output_type": "stream",
     "text": [
      "Epoch 1/50\n",
      "5/5 [==============================] - 0s 375us/step - loss: 0.8602 - accuracy: 0.6566\n",
      "Epoch 2/50\n",
      "5/5 [==============================] - 0s 355us/step - loss: 0.6628 - accuracy: 0.7112\n",
      "Epoch 3/50\n",
      "5/5 [==============================] - 0s 294us/step - loss: 0.5757 - accuracy: 0.7524\n",
      "Epoch 4/50\n",
      "5/5 [==============================] - 0s 363us/step - loss: 0.5065 - accuracy: 0.7835\n",
      "Epoch 5/50\n",
      "5/5 [==============================] - 0s 373us/step - loss: 0.4481 - accuracy: 0.8041\n",
      "Epoch 6/50\n",
      "5/5 [==============================] - 0s 398us/step - loss: 0.3979 - accuracy: 0.8286\n",
      "Epoch 7/50\n",
      "5/5 [==============================] - 0s 370us/step - loss: 0.3594 - accuracy: 0.8486\n",
      "Epoch 8/50\n",
      "5/5 [==============================] - 0s 318us/step - loss: 0.3314 - accuracy: 0.8609\n",
      "Epoch 9/50\n",
      "5/5 [==============================] - 0s 245us/step - loss: 0.3084 - accuracy: 0.8720\n",
      "Epoch 10/50\n",
      "5/5 [==============================] - 0s 235us/step - loss: 0.2852 - accuracy: 0.8815\n",
      "Epoch 11/50\n",
      "5/5 [==============================] - 0s 315us/step - loss: 0.2726 - accuracy: 0.8876\n",
      "Epoch 12/50\n",
      "5/5 [==============================] - 0s 295us/step - loss: 0.2522 - accuracy: 0.9004\n",
      "Epoch 13/50\n",
      "5/5 [==============================] - 0s 233us/step - loss: 0.2337 - accuracy: 0.9065\n",
      "Epoch 14/50\n",
      "5/5 [==============================] - 0s 286us/step - loss: 0.2217 - accuracy: 0.9126\n",
      "Epoch 15/50\n",
      "5/5 [==============================] - 0s 292us/step - loss: 0.2137 - accuracy: 0.9149\n",
      "Epoch 16/50\n",
      "5/5 [==============================] - 0s 258us/step - loss: 0.2017 - accuracy: 0.9232\n",
      "Epoch 17/50\n",
      "5/5 [==============================] - 0s 256us/step - loss: 0.1885 - accuracy: 0.9282\n",
      "Epoch 18/50\n",
      "5/5 [==============================] - 0s 274us/step - loss: 0.1869 - accuracy: 0.9271\n",
      "Epoch 19/50\n",
      "5/5 [==============================] - 0s 271us/step - loss: 0.1770 - accuracy: 0.9310\n",
      "Epoch 20/50\n",
      "5/5 [==============================] - 0s 275us/step - loss: 0.1712 - accuracy: 0.9321\n",
      "Epoch 21/50\n",
      "5/5 [==============================] - 0s 400us/step - loss: 0.1670 - accuracy: 0.9399\n",
      "Epoch 22/50\n",
      "5/5 [==============================] - 0s 337us/step - loss: 0.1581 - accuracy: 0.9382\n",
      "Epoch 23/50\n",
      "5/5 [==============================] - 0s 313us/step - loss: 0.1495 - accuracy: 0.9482\n",
      "Epoch 24/50\n",
      "5/5 [==============================] - 0s 347us/step - loss: 0.1484 - accuracy: 0.9449\n",
      "Epoch 25/50\n",
      "5/5 [==============================] - 0s 310us/step - loss: 0.1394 - accuracy: 0.9505\n",
      "Epoch 26/50\n",
      "5/5 [==============================] - 0s 228us/step - loss: 0.1376 - accuracy: 0.9516\n",
      "Epoch 27/50\n",
      "5/5 [==============================] - 0s 204us/step - loss: 0.1340 - accuracy: 0.9516\n",
      "Epoch 28/50\n",
      "5/5 [==============================] - 0s 311us/step - loss: 0.1272 - accuracy: 0.9527\n",
      "Epoch 29/50\n",
      "5/5 [==============================] - 0s 265us/step - loss: 0.1252 - accuracy: 0.9555\n",
      "Epoch 30/50\n",
      "5/5 [==============================] - 0s 266us/step - loss: 0.1178 - accuracy: 0.9555\n",
      "Epoch 31/50\n",
      "5/5 [==============================] - 0s 259us/step - loss: 0.1153 - accuracy: 0.9594\n",
      "Epoch 32/50\n",
      "5/5 [==============================] - 0s 261us/step - loss: 0.1160 - accuracy: 0.9560\n",
      "Epoch 33/50\n",
      "5/5 [==============================] - 0s 234us/step - loss: 0.1081 - accuracy: 0.9605\n",
      "Epoch 34/50\n",
      "5/5 [==============================] - 0s 218us/step - loss: 0.1057 - accuracy: 0.9588\n",
      "Epoch 35/50\n",
      "5/5 [==============================] - 0s 238us/step - loss: 0.1031 - accuracy: 0.9655\n",
      "Epoch 36/50\n",
      "5/5 [==============================] - 0s 258us/step - loss: 0.1001 - accuracy: 0.9638\n",
      "Epoch 37/50\n",
      "5/5 [==============================] - 0s 261us/step - loss: 0.0976 - accuracy: 0.9644\n",
      "Epoch 38/50\n",
      "5/5 [==============================] - 0s 262us/step - loss: 0.0972 - accuracy: 0.9599\n",
      "Epoch 39/50\n",
      "5/5 [==============================] - 0s 264us/step - loss: 0.0934 - accuracy: 0.9672\n",
      "Epoch 40/50\n",
      "5/5 [==============================] - 0s 319us/step - loss: 0.0953 - accuracy: 0.9616\n",
      "Epoch 41/50\n",
      "5/5 [==============================] - 0s 260us/step - loss: 0.0885 - accuracy: 0.9705\n",
      "Epoch 42/50\n",
      "5/5 [==============================] - 0s 296us/step - loss: 0.0913 - accuracy: 0.9661\n",
      "Epoch 43/50\n",
      "5/5 [==============================] - 0s 275us/step - loss: 0.0860 - accuracy: 0.9683\n",
      "Epoch 44/50\n",
      "5/5 [==============================] - 0s 345us/step - loss: 0.0818 - accuracy: 0.9705\n",
      "Epoch 45/50\n",
      "5/5 [==============================] - 0s 289us/step - loss: 0.0830 - accuracy: 0.9738\n",
      "Epoch 46/50\n",
      "5/5 [==============================] - 0s 300us/step - loss: 0.0776 - accuracy: 0.9738\n",
      "Epoch 47/50\n",
      "5/5 [==============================] - 0s 275us/step - loss: 0.0770 - accuracy: 0.9755\n",
      "Epoch 48/50\n",
      "5/5 [==============================] - 0s 278us/step - loss: 0.0780 - accuracy: 0.9738\n",
      "Epoch 49/50\n",
      "5/5 [==============================] - 0s 227us/step - loss: 0.0746 - accuracy: 0.9761\n",
      "Epoch 50/50\n",
      "5/5 [==============================] - 0s 239us/step - loss: 0.0716 - accuracy: 0.9783\n"
     ]
    },
    {
     "data": {
      "text/plain": [
       "<tensorflow.python.keras.callbacks.History at 0x7f2ec3776b50>"
      ]
     },
     "execution_count": 20,
     "metadata": {},
     "output_type": "execute_result"
    }
   ],
   "source": [
    "model = Sequential()\n",
    "model.add(Dense(12, activation='relu', input_dim=64))\n",
    "model.add(Dense(8, activation='relu'))\n",
    "model.add(Dense(1, activation='sigmoid'))\n",
    "\n",
    "model.compile(optimizer='rmsprop',\n",
    "            loss='binary_crossentropy',\n",
    "            metrics=['accuracy']\n",
    ")\n",
    "\n",
    "model.fit(X, y=y_binary, epochs=50, batch_size=360)"
   ]
  },
  {
   "cell_type": "code",
   "execution_count": 21,
   "metadata": {},
   "outputs": [
    {
     "name": "stdout",
     "output_type": "stream",
     "text": [
      "Model: \"sequential_5\"\n",
      "_________________________________________________________________\n",
      "Layer (type)                 Output Shape              Param #   \n",
      "=================================================================\n",
      "dense_15 (Dense)             (None, 12)                780       \n",
      "_________________________________________________________________\n",
      "dense_16 (Dense)             (None, 8)                 104       \n",
      "_________________________________________________________________\n",
      "dense_17 (Dense)             (None, 1)                 9         \n",
      "=================================================================\n",
      "Total params: 893\n",
      "Trainable params: 893\n",
      "Non-trainable params: 0\n",
      "_________________________________________________________________\n"
     ]
    }
   ],
   "source": [
    "model.summary()"
   ]
  },
  {
   "cell_type": "markdown",
   "metadata": {},
   "source": [
    "### Things to know:\n",
    "\n",
    "- The data and labels in `fit()` need to be numpy arrays, not `pandas` dfs.\n",
    "- Scaling your data will have a large impact on your model.\n",
    "   > For our traditional input features, we would use a scaler object. For images, as long as the minimum value is 0, we can simply divide through by the maximum pixel intensity."
   ]
  },
  {
   "cell_type": "markdown",
   "metadata": {},
   "source": [
    "#### Getting data ready for modeling\n",
    "**Preprocessing**:\n",
    "\n",
    "- use train_test_split to create X_train, y_train, X_test, and y_test\n",
    "- Split training data into pure_train and validation sets.\n",
    "- Scale the pixel intensity to a value between 0 and 1."
   ]
  },
  {
   "cell_type": "markdown",
   "metadata": {},
   "source": [
    "Scaling our input variables will help speed up our neural network.\n",
    "\n",
    "Since our minimum intensity is 0, we can normalize the inputs by dividing each value by the max value (16)."
   ]
  },
  {
   "cell_type": "code",
   "execution_count": 22,
   "metadata": {},
   "outputs": [],
   "source": [
    "X_train, X_test, y_train, y_test =\\\n",
    "    train_test_split(X, y_binary, random_state=42, test_size=0.2)\n",
    "\n",
    "X_pure_train, X_val, y_pure_train, y_val =\\\n",
    "    train_test_split(X_train, y_train, random_state=42, test_size=0.2)\n",
    "\n",
    "X_pure_train, X_val, X_test = X_pure_train/16, X_val/16, X_test/16"
   ]
  },
  {
   "cell_type": "markdown",
   "metadata": {},
   "source": [
    "For activation, let's start with the familiar sigmoid function, and see how it performs."
   ]
  },
  {
   "cell_type": "code",
   "execution_count": 23,
   "metadata": {},
   "outputs": [
    {
     "name": "stdout",
     "output_type": "stream",
     "text": [
      "Epoch 1/10\n",
      "12/12 [==============================] - 0s 252us/step - loss: 0.6949 - accuracy: 0.5039\n",
      "Epoch 2/10\n",
      "12/12 [==============================] - 0s 185us/step - loss: 0.6947 - accuracy: 0.5039\n",
      "Epoch 3/10\n",
      "12/12 [==============================] - 0s 262us/step - loss: 0.6945 - accuracy: 0.5030\n",
      "Epoch 4/10\n",
      "12/12 [==============================] - 0s 250us/step - loss: 0.6942 - accuracy: 0.5039\n",
      "Epoch 5/10\n",
      "12/12 [==============================] - 0s 253us/step - loss: 0.6941 - accuracy: 0.5039\n",
      "Epoch 6/10\n",
      "12/12 [==============================] - 0s 219us/step - loss: 0.6939 - accuracy: 0.5039\n",
      "Epoch 7/10\n",
      "12/12 [==============================] - 0s 195us/step - loss: 0.6938 - accuracy: 0.5022\n",
      "Epoch 8/10\n",
      "12/12 [==============================] - 0s 182us/step - loss: 0.6937 - accuracy: 0.5022\n",
      "Epoch 9/10\n",
      "12/12 [==============================] - 0s 194us/step - loss: 0.6935 - accuracy: 0.5022\n",
      "Epoch 10/10\n",
      "12/12 [==============================] - 0s 229us/step - loss: 0.6935 - accuracy: 0.5022\n"
     ]
    }
   ],
   "source": [
    "model = Sequential()\n",
    "# We will start with our trusty sigmoid function.\n",
    "# What does input dimension correspond to?\n",
    "model.add(Dense(12, activation='sigmoid', input_dim=64))\n",
    "model.add(Dense(8, activation='sigmoid'))\n",
    "model.add(Dense(1, activation='sigmoid'))\n",
    "\n",
    "model.compile(optimizer='SGD' ,\n",
    "                # We use binary_crossentropy for a binary loss function\n",
    "                loss='binary_crossentropy',\n",
    "                metrics=['accuracy'])\n",
    "\n",
    "# Assign the variable history to store the results,\n",
    "# and set verbose=1 so we can see the output. To see\n",
    "# only the metrics at the end of each epoch, set verbose=2.\n",
    "results = model.fit(X_pure_train, y_pure_train, epochs=10, batch_size=100, verbose=1)"
   ]
  },
  {
   "cell_type": "markdown",
   "metadata": {},
   "source": [
    "We can access the history of our model via `results.history`.\n",
    "Use __dict__ to take a tour."
   ]
  },
  {
   "cell_type": "code",
   "execution_count": 24,
   "metadata": {},
   "outputs": [
    {
     "data": {
      "text/plain": [
       "{'validation_data': None,\n",
       " 'model': <tensorflow.python.keras.engine.sequential.Sequential at 0x7f2ec3777ee0>,\n",
       " '_chief_worker_only': None,\n",
       " '_supports_tf_logs': False,\n",
       " 'history': {'loss': [0.6949339509010315,\n",
       "   0.6946763396263123,\n",
       "   0.6944588422775269,\n",
       "   0.6942165493965149,\n",
       "   0.6940560936927795,\n",
       "   0.6939210891723633,\n",
       "   0.6938394904136658,\n",
       "   0.6936629414558411,\n",
       "   0.6935493350028992,\n",
       "   0.6934624314308167],\n",
       "  'accuracy': [0.5039164423942566,\n",
       "   0.5039164423942566,\n",
       "   0.5030461549758911,\n",
       "   0.5039164423942566,\n",
       "   0.5039164423942566,\n",
       "   0.5039164423942566,\n",
       "   0.5021758079528809,\n",
       "   0.5021758079528809,\n",
       "   0.5021758079528809,\n",
       "   0.5021758079528809]},\n",
       " 'params': {'verbose': 1, 'epochs': 10, 'steps': 12},\n",
       " 'epoch': [0, 1, 2, 3, 4, 5, 6, 7, 8, 9]}"
      ]
     },
     "execution_count": 24,
     "metadata": {},
     "output_type": "execute_result"
    }
   ],
   "source": [
    "results.__dict__"
   ]
  },
  {
   "cell_type": "code",
   "execution_count": 25,
   "metadata": {},
   "outputs": [
    {
     "data": {
      "image/png": "[encoded data removed]",
      "text/plain": [
       "<Figure size 720x360 with 2 Axes>"
      ]
     },
     "metadata": {
      "needs_background": "light"
     },
     "output_type": "display_data"
    }
   ],
   "source": [
    "sigmoid_loss = results.history['loss']\n",
    "sigmoid_accuracy = results.history['accuracy']\n",
    "\n",
    "fig, (ax1, ax2) = plt.subplots(1, 2, figsize=(10, 5))\n",
    "sns.lineplot(\n",
    "    x=results.epoch, y=sigmoid_loss, ax=ax1, label='loss').set(\n",
    "    ylim=[0,1]\n",
    "    )\n",
    "sns.lineplot(x=results.epoch, y=sigmoid_accuracy, ax=ax2, label='accuracy');"
   ]
  },
  {
   "cell_type": "markdown",
   "metadata": {},
   "source": [
    "We have two plots above both relating to the quality of our model.  The left-hand plot is our loss. It uses the probabilities associated with our predictions to judge how well our prediction fits reality. We want it to decrease as far as possible.\n",
    "\n",
    "The accuracy judges how well the predictions are after applying the threshold at the output layer.  We want accuracy to increase."
   ]
  },
  {
   "cell_type": "markdown",
   "metadata": {},
   "source": [
    "If we look at our loss, it is still decreasing. That is a signal that our model is **still learning**. If our model is still learning, we can allow it to get better by turning a few dials.\n",
    "\n",
    "Let's:\n",
    "- increase the number of epochs;\n",
    "- change sigmoid activation in the hidden layers to ReLU; and\n",
    "- decrease the batch size."
   ]
  },
  {
   "cell_type": "code",
   "execution_count": 26,
   "metadata": {},
   "outputs": [
    {
     "data": {
      "text/plain": [
       "1149"
      ]
     },
     "execution_count": 26,
     "metadata": {},
     "output_type": "execute_result"
    }
   ],
   "source": [
    "X_pure_train.shape[0]"
   ]
  },
  {
   "cell_type": "code",
   "execution_count": 27,
   "metadata": {},
   "outputs": [
    {
     "name": "stdout",
     "output_type": "stream",
     "text": [
      "Epoch 1/100\n",
      "36/36 [==============================] - 0s 245us/step - loss: 0.6967 - accuracy: 0.5057\n",
      "Epoch 2/100\n",
      "36/36 [==============================] - 0s 217us/step - loss: 0.6654 - accuracy: 0.5370\n",
      "Epoch 3/100\n",
      "36/36 [==============================] - 0s 214us/step - loss: 0.6397 - accuracy: 0.5857\n",
      "Epoch 4/100\n",
      "36/36 [==============================] - 0s 179us/step - loss: 0.6177 - accuracy: 0.6292\n",
      "Epoch 5/100\n",
      "36/36 [==============================] - 0s 186us/step - loss: 0.5994 - accuracy: 0.6771\n",
      "Epoch 6/100\n",
      "36/36 [==============================] - 0s 203us/step - loss: 0.5825 - accuracy: 0.7206\n",
      "Epoch 7/100\n",
      "36/36 [==============================] - 0s 192us/step - loss: 0.5657 - accuracy: 0.7380\n",
      "Epoch 8/100\n",
      "36/36 [==============================] - 0s 192us/step - loss: 0.5485 - accuracy: 0.7520\n",
      "Epoch 9/100\n",
      "36/36 [==============================] - 0s 152us/step - loss: 0.5308 - accuracy: 0.7659\n",
      "Epoch 10/100\n",
      "36/36 [==============================] - 0s 174us/step - loss: 0.5134 - accuracy: 0.7659\n",
      "Epoch 11/100\n",
      "36/36 [==============================] - 0s 169us/step - loss: 0.4958 - accuracy: 0.7772\n",
      "Epoch 12/100\n",
      "36/36 [==============================] - 0s 170us/step - loss: 0.4780 - accuracy: 0.7859\n",
      "Epoch 13/100\n",
      "36/36 [==============================] - 0s 301us/step - loss: 0.4597 - accuracy: 0.7990\n",
      "Epoch 14/100\n",
      "36/36 [==============================] - 0s 235us/step - loss: 0.4426 - accuracy: 0.8120\n",
      "Epoch 15/100\n",
      "36/36 [==============================] - 0s 246us/step - loss: 0.4265 - accuracy: 0.8129\n",
      "Epoch 16/100\n",
      "36/36 [==============================] - 0s 259us/step - loss: 0.4101 - accuracy: 0.8181\n",
      "Epoch 17/100\n",
      "36/36 [==============================] - 0s 201us/step - loss: 0.3948 - accuracy: 0.8242\n",
      "Epoch 18/100\n",
      "36/36 [==============================] - 0s 193us/step - loss: 0.3809 - accuracy: 0.8277\n",
      "Epoch 19/100\n",
      "36/36 [==============================] - 0s 180us/step - loss: 0.3671 - accuracy: 0.8355\n",
      "Epoch 20/100\n",
      "36/36 [==============================] - 0s 223us/step - loss: 0.3536 - accuracy: 0.8477\n",
      "Epoch 21/100\n",
      "36/36 [==============================] - 0s 187us/step - loss: 0.3425 - accuracy: 0.8564\n",
      "Epoch 22/100\n",
      "36/36 [==============================] - 0s 190us/step - loss: 0.3322 - accuracy: 0.8590\n",
      "Epoch 23/100\n",
      "36/36 [==============================] - 0s 200us/step - loss: 0.3222 - accuracy: 0.8668\n",
      "Epoch 24/100\n",
      "36/36 [==============================] - 0s 208us/step - loss: 0.3124 - accuracy: 0.8747\n",
      "Epoch 25/100\n",
      "36/36 [==============================] - 0s 190us/step - loss: 0.3056 - accuracy: 0.8825\n",
      "Epoch 26/100\n",
      "36/36 [==============================] - 0s 186us/step - loss: 0.2975 - accuracy: 0.8808\n",
      "Epoch 27/100\n",
      "36/36 [==============================] - 0s 176us/step - loss: 0.2907 - accuracy: 0.8842\n",
      "Epoch 28/100\n",
      "36/36 [==============================] - 0s 198us/step - loss: 0.2851 - accuracy: 0.8886\n",
      "Epoch 29/100\n",
      "36/36 [==============================] - 0s 173us/step - loss: 0.2800 - accuracy: 0.8869\n",
      "Epoch 30/100\n",
      "36/36 [==============================] - 0s 179us/step - loss: 0.2735 - accuracy: 0.8947\n",
      "Epoch 31/100\n",
      "36/36 [==============================] - 0s 170us/step - loss: 0.2706 - accuracy: 0.8921\n",
      "Epoch 32/100\n",
      "36/36 [==============================] - 0s 188us/step - loss: 0.2665 - accuracy: 0.8895\n",
      "Epoch 33/100\n",
      "36/36 [==============================] - 0s 179us/step - loss: 0.2628 - accuracy: 0.8912\n",
      "Epoch 34/100\n",
      "36/36 [==============================] - 0s 238us/step - loss: 0.2591 - accuracy: 0.8956\n",
      "Epoch 35/100\n",
      "36/36 [==============================] - 0s 266us/step - loss: 0.2555 - accuracy: 0.8964\n",
      "Epoch 36/100\n",
      "36/36 [==============================] - 0s 206us/step - loss: 0.2528 - accuracy: 0.8947\n",
      "Epoch 37/100\n",
      "36/36 [==============================] - 0s 186us/step - loss: 0.2497 - accuracy: 0.8964\n",
      "Epoch 38/100\n",
      "36/36 [==============================] - 0s 175us/step - loss: 0.2468 - accuracy: 0.8930\n",
      "Epoch 39/100\n",
      "36/36 [==============================] - 0s 190us/step - loss: 0.2419 - accuracy: 0.9008\n",
      "Epoch 40/100\n",
      "36/36 [==============================] - 0s 234us/step - loss: 0.2433 - accuracy: 0.8973\n",
      "Epoch 41/100\n",
      "36/36 [==============================] - 0s 200us/step - loss: 0.2392 - accuracy: 0.8964\n",
      "Epoch 42/100\n",
      "36/36 [==============================] - 0s 295us/step - loss: 0.2386 - accuracy: 0.9008\n",
      "Epoch 43/100\n",
      "36/36 [==============================] - 0s 213us/step - loss: 0.2371 - accuracy: 0.8947\n",
      "Epoch 44/100\n",
      "36/36 [==============================] - 0s 262us/step - loss: 0.2337 - accuracy: 0.9069\n",
      "Epoch 45/100\n",
      "36/36 [==============================] - 0s 323us/step - loss: 0.2305 - accuracy: 0.9034\n",
      "Epoch 46/100\n",
      "36/36 [==============================] - 0s 317us/step - loss: 0.2312 - accuracy: 0.8999\n",
      "Epoch 47/100\n",
      "36/36 [==============================] - 0s 243us/step - loss: 0.2288 - accuracy: 0.9017\n",
      "Epoch 48/100\n",
      "36/36 [==============================] - 0s 158us/step - loss: 0.2272 - accuracy: 0.9008\n",
      "Epoch 49/100\n",
      "36/36 [==============================] - 0s 181us/step - loss: 0.2263 - accuracy: 0.9034\n",
      "Epoch 50/100\n",
      "36/36 [==============================] - 0s 202us/step - loss: 0.2245 - accuracy: 0.9017\n",
      "Epoch 51/100\n",
      "36/36 [==============================] - 0s 173us/step - loss: 0.2225 - accuracy: 0.8990\n",
      "Epoch 52/100\n",
      "36/36 [==============================] - 0s 183us/step - loss: 0.2228 - accuracy: 0.9017\n",
      "Epoch 53/100\n",
      "36/36 [==============================] - 0s 163us/step - loss: 0.2214 - accuracy: 0.9043\n",
      "Epoch 54/100\n",
      "36/36 [==============================] - 0s 177us/step - loss: 0.2206 - accuracy: 0.9008\n",
      "Epoch 55/100\n",
      "36/36 [==============================] - 0s 155us/step - loss: 0.2181 - accuracy: 0.9051\n",
      "Epoch 56/100\n",
      "36/36 [==============================] - 0s 158us/step - loss: 0.2180 - accuracy: 0.9077\n",
      "Epoch 57/100\n",
      "36/36 [==============================] - 0s 175us/step - loss: 0.2155 - accuracy: 0.9060\n",
      "Epoch 58/100\n",
      "36/36 [==============================] - 0s 198us/step - loss: 0.2160 - accuracy: 0.9051\n",
      "Epoch 59/100\n",
      "36/36 [==============================] - 0s 164us/step - loss: 0.2147 - accuracy: 0.9051\n",
      "Epoch 60/100\n",
      "36/36 [==============================] - 0s 170us/step - loss: 0.2127 - accuracy: 0.9077\n",
      "Epoch 61/100\n",
      "36/36 [==============================] - 0s 210us/step - loss: 0.2126 - accuracy: 0.9051\n",
      "Epoch 62/100\n",
      "36/36 [==============================] - 0s 163us/step - loss: 0.2119 - accuracy: 0.9060\n",
      "Epoch 63/100\n",
      "36/36 [==============================] - 0s 184us/step - loss: 0.2105 - accuracy: 0.9069\n",
      "Epoch 64/100\n",
      "36/36 [==============================] - 0s 167us/step - loss: 0.2086 - accuracy: 0.9086\n",
      "Epoch 65/100\n",
      "36/36 [==============================] - 0s 189us/step - loss: 0.2085 - accuracy: 0.9069\n",
      "Epoch 66/100\n",
      "36/36 [==============================] - 0s 192us/step - loss: 0.2076 - accuracy: 0.9069\n",
      "Epoch 67/100\n",
      "36/36 [==============================] - 0s 226us/step - loss: 0.2071 - accuracy: 0.9077\n",
      "Epoch 68/100\n",
      "36/36 [==============================] - 0s 207us/step - loss: 0.2058 - accuracy: 0.9095\n",
      "Epoch 69/100\n",
      "36/36 [==============================] - 0s 214us/step - loss: 0.2062 - accuracy: 0.9112\n",
      "Epoch 70/100\n",
      "36/36 [==============================] - 0s 196us/step - loss: 0.2060 - accuracy: 0.9121\n",
      "Epoch 71/100\n",
      "36/36 [==============================] - 0s 218us/step - loss: 0.2043 - accuracy: 0.9104\n",
      "Epoch 72/100\n",
      "36/36 [==============================] - 0s 165us/step - loss: 0.2030 - accuracy: 0.9112\n",
      "Epoch 73/100\n",
      "36/36 [==============================] - 0s 210us/step - loss: 0.2023 - accuracy: 0.9086\n",
      "Epoch 74/100\n",
      "36/36 [==============================] - 0s 186us/step - loss: 0.2020 - accuracy: 0.9130\n",
      "Epoch 75/100\n",
      "36/36 [==============================] - 0s 192us/step - loss: 0.2012 - accuracy: 0.9077\n",
      "Epoch 76/100\n",
      "36/36 [==============================] - 0s 193us/step - loss: 0.2012 - accuracy: 0.9147\n",
      "Epoch 77/100\n",
      "36/36 [==============================] - 0s 194us/step - loss: 0.1999 - accuracy: 0.9121\n",
      "Epoch 78/100\n",
      "36/36 [==============================] - 0s 216us/step - loss: 0.1991 - accuracy: 0.9138\n",
      "Epoch 79/100\n",
      "36/36 [==============================] - 0s 210us/step - loss: 0.1990 - accuracy: 0.9121\n",
      "Epoch 80/100\n",
      "36/36 [==============================] - 0s 203us/step - loss: 0.1986 - accuracy: 0.9095\n",
      "Epoch 81/100\n",
      "36/36 [==============================] - 0s 210us/step - loss: 0.1979 - accuracy: 0.9112\n",
      "Epoch 82/100\n",
      "36/36 [==============================] - 0s 193us/step - loss: 0.1967 - accuracy: 0.9156\n",
      "Epoch 83/100\n",
      "36/36 [==============================] - 0s 173us/step - loss: 0.1957 - accuracy: 0.9138\n",
      "Epoch 84/100\n",
      "36/36 [==============================] - 0s 181us/step - loss: 0.1954 - accuracy: 0.9104\n",
      "Epoch 85/100\n",
      "36/36 [==============================] - 0s 183us/step - loss: 0.1953 - accuracy: 0.9138\n",
      "Epoch 86/100\n",
      "36/36 [==============================] - 0s 193us/step - loss: 0.1938 - accuracy: 0.9164\n",
      "Epoch 87/100\n",
      "36/36 [==============================] - 0s 180us/step - loss: 0.1937 - accuracy: 0.9138\n",
      "Epoch 88/100\n",
      "36/36 [==============================] - 0s 224us/step - loss: 0.1926 - accuracy: 0.9138\n",
      "Epoch 89/100\n",
      "36/36 [==============================] - 0s 175us/step - loss: 0.1929 - accuracy: 0.9130\n",
      "Epoch 90/100\n",
      "36/36 [==============================] - 0s 206us/step - loss: 0.1900 - accuracy: 0.9164\n",
      "Epoch 91/100\n",
      "36/36 [==============================] - 0s 191us/step - loss: 0.1899 - accuracy: 0.9173\n",
      "Epoch 92/100\n",
      "36/36 [==============================] - 0s 257us/step - loss: 0.1893 - accuracy: 0.9182\n",
      "Epoch 93/100\n",
      "36/36 [==============================] - 0s 218us/step - loss: 0.1905 - accuracy: 0.9156\n",
      "Epoch 94/100\n",
      "36/36 [==============================] - 0s 184us/step - loss: 0.1884 - accuracy: 0.9147\n",
      "Epoch 95/100\n",
      "36/36 [==============================] - 0s 195us/step - loss: 0.1894 - accuracy: 0.9182\n",
      "Epoch 96/100\n",
      "36/36 [==============================] - 0s 206us/step - loss: 0.1866 - accuracy: 0.9208\n",
      "Epoch 97/100\n",
      "36/36 [==============================] - 0s 189us/step - loss: 0.1864 - accuracy: 0.9208\n",
      "Epoch 98/100\n",
      "36/36 [==============================] - 0s 207us/step - loss: 0.1855 - accuracy: 0.9199\n",
      "Epoch 99/100\n",
      "36/36 [==============================] - 0s 180us/step - loss: 0.1848 - accuracy: 0.9156\n",
      "Epoch 100/100\n",
      "36/36 [==============================] - 0s 173us/step - loss: 0.1825 - accuracy: 0.9252\n"
     ]
    }
   ],
   "source": [
    "model = Sequential()\n",
    "model.add(Dense(12, activation='relu', input_dim=64))\n",
    "model.add(Dense(8, activation='relu'))\n",
    "model.add(Dense(1, activation='sigmoid'))\n",
    "\n",
    "model.compile(optimizer='SGD',\n",
    "            loss='binary_crossentropy',\n",
    "            metrics=['accuracy'])\n",
    "\n",
    "# Assign the variable history to store the results,\n",
    "# and set verbose=1 so we can see the output.\n",
    "results = model.fit(X_pure_train, y_pure_train, epochs=100, batch_size=None, verbose=1)"
   ]
  },
  {
   "cell_type": "code",
   "execution_count": 28,
   "metadata": {},
   "outputs": [
    {
     "data": {
      "image/png": "[encoded data removed]",
      "text/plain": [
       "<Figure size 720x360 with 2 Axes>"
      ]
     },
     "metadata": {
      "needs_background": "light"
     },
     "output_type": "display_data"
    }
   ],
   "source": [
    "sigmoid_loss = results.history['loss']\n",
    "sigmoid_accuracy = results.history['accuracy']\n",
    "\n",
    "fig, (ax1, ax2) = plt.subplots(1, 2, figsize=(10, 5))\n",
    "sns.lineplot(x=results.epoch, y=sigmoid_loss, ax=ax1, label='loss'\n",
    ").set(ylim=[0,1])\n",
    "sns.lineplot(x=results.epoch, y=sigmoid_accuracy, ax=ax2, label='accuracy'\n",
    ").set(ylim=[0,1]);"
   ]
  },
  {
   "cell_type": "markdown",
   "metadata": {},
   "source": [
    "If we increase the learning rate to a very high number, we see that our model overshoots the minimum, and starts bouncing all around."
   ]
  },
  {
   "cell_type": "code",
   "execution_count": 29,
   "metadata": {},
   "outputs": [
    {
     "name": "stdout",
     "output_type": "stream",
     "text": [
      "Epoch 1/30\n",
      "115/115 [==============================] - 0s 202us/step - loss: 1.0519 - accuracy: 0.5196\n",
      "Epoch 2/30\n",
      "115/115 [==============================] - 0s 218us/step - loss: 1.0114 - accuracy: 0.5030\n",
      "Epoch 3/30\n",
      "115/115 [==============================] - 0s 185us/step - loss: 1.0269 - accuracy: 0.4778\n",
      "Epoch 4/30\n",
      "115/115 [==============================] - 0s 171us/step - loss: 0.9816 - accuracy: 0.5057\n",
      "Epoch 5/30\n",
      "115/115 [==============================] - 0s 256us/step - loss: 0.9419 - accuracy: 0.4917\n",
      "Epoch 6/30\n",
      "115/115 [==============================] - 0s 192us/step - loss: 0.9984 - accuracy: 0.5057\n",
      "Epoch 7/30\n",
      "115/115 [==============================] - 0s 182us/step - loss: 1.0061 - accuracy: 0.4943\n",
      "Epoch 8/30\n",
      "115/115 [==============================] - 0s 177us/step - loss: 0.9806 - accuracy: 0.5083\n",
      "Epoch 9/30\n",
      "115/115 [==============================] - 0s 169us/step - loss: 0.9564 - accuracy: 0.5126\n",
      "Epoch 10/30\n",
      "115/115 [==============================] - 0s 178us/step - loss: 0.9849 - accuracy: 0.4978\n",
      "Epoch 11/30\n",
      "115/115 [==============================] - 0s 218us/step - loss: 0.9435 - accuracy: 0.5396\n",
      "Epoch 12/30\n",
      "115/115 [==============================] - 0s 186us/step - loss: 1.0157 - accuracy: 0.5039\n",
      "Epoch 13/30\n",
      "115/115 [==============================] - 0s 164us/step - loss: 1.0815 - accuracy: 0.4752\n",
      "Epoch 14/30\n",
      "115/115 [==============================] - 0s 170us/step - loss: 1.1219 - accuracy: 0.4813\n",
      "Epoch 15/30\n",
      "115/115 [==============================] - 0s 231us/step - loss: 0.9768 - accuracy: 0.5022\n",
      "Epoch 16/30\n",
      "115/115 [==============================] - 0s 201us/step - loss: 0.9859 - accuracy: 0.5083\n",
      "Epoch 17/30\n",
      "115/115 [==============================] - 0s 219us/step - loss: 0.9375 - accuracy: 0.4996\n",
      "Epoch 18/30\n",
      "115/115 [==============================] - 0s 215us/step - loss: 0.9544 - accuracy: 0.5135\n",
      "Epoch 19/30\n",
      "115/115 [==============================] - 0s 188us/step - loss: 0.9921 - accuracy: 0.5057\n",
      "Epoch 20/30\n",
      "115/115 [==============================] - 0s 208us/step - loss: 1.0537 - accuracy: 0.4900\n",
      "Epoch 21/30\n",
      "115/115 [==============================] - 0s 224us/step - loss: 1.0044 - accuracy: 0.5178\n",
      "Epoch 22/30\n",
      "115/115 [==============================] - 0s 249us/step - loss: 0.9211 - accuracy: 0.4987\n",
      "Epoch 23/30\n",
      "115/115 [==============================] - 0s 294us/step - loss: 0.9683 - accuracy: 0.5178\n",
      "Epoch 24/30\n",
      "115/115 [==============================] - 0s 247us/step - loss: 0.9718 - accuracy: 0.4935\n",
      "Epoch 25/30\n",
      "115/115 [==============================] - 0s 284us/step - loss: 1.0337 - accuracy: 0.4813\n",
      "Epoch 26/30\n",
      "115/115 [==============================] - 0s 205us/step - loss: 1.0388 - accuracy: 0.4970\n",
      "Epoch 27/30\n",
      "115/115 [==============================] - 0s 193us/step - loss: 1.1522 - accuracy: 0.4569\n",
      "Epoch 28/30\n",
      "115/115 [==============================] - 0s 184us/step - loss: 0.9677 - accuracy: 0.5135\n",
      "Epoch 29/30\n",
      "115/115 [==============================] - 0s 220us/step - loss: 1.0891 - accuracy: 0.4822\n",
      "Epoch 30/30\n",
      "115/115 [==============================] - 0s 310us/step - loss: 0.9362 - accuracy: 0.5152\n"
     ]
    },
    {
     "data": {
      "image/png": "[encoded data removed]",
      "text/plain": [
       "<Figure size 720x360 with 2 Axes>"
      ]
     },
     "metadata": {
      "needs_background": "light"
     },
     "output_type": "display_data"
    }
   ],
   "source": [
    "model = Sequential()\n",
    "\n",
    "sgd = SGD(lr=9)\n",
    "model.add(Dense(12, activation='relu', input_dim=64))\n",
    "model.add(Dense(8, activation='relu'))\n",
    "model.add(Dense(1, activation='sigmoid'))\n",
    "\n",
    "model.compile(optimizer=sgd,\n",
    "            loss='binary_crossentropy',\n",
    "            metrics=['accuracy'])\n",
    "\n",
    "results = model.fit(X_pure_train, y_pure_train,\n",
    "                    epochs=30, batch_size=10, verbose=1)\n",
    "\n",
    "relu_loss = results.history['loss']\n",
    "relu_accuracy = results.history['accuracy']\n",
    "\n",
    "fig, (ax1, ax2) = plt.subplots(1, 2, figsize=(10, 5))\n",
    "sns.lineplot(x=results.epoch, y=relu_loss, ax=ax1, label='loss')\n",
    "sns.lineplot(x=results.epoch, y=relu_accuracy, ax=ax2, label='accuracy');"
   ]
  },
  {
   "cell_type": "markdown",
   "metadata": {},
   "source": [
    "### Exercise\n",
    "\n",
    "We have been looking only at our training set. Let's add in our validation set to the picture. Check the docstring for the `.fit()` method and add in our validation data."
   ]
  },
  {
   "cell_type": "code",
   "execution_count": 30,
   "metadata": {},
   "outputs": [
    {
     "name": "stdout",
     "output_type": "stream",
     "text": [
      "Epoch 1/30\n",
      "115/115 [==============================] - 0s 550us/step - loss: 0.6215 - accuracy: 0.5614 - val_loss: 0.5807 - val_accuracy: 0.6667\n",
      "Epoch 2/30\n",
      "115/115 [==============================] - 0s 309us/step - loss: 0.5280 - accuracy: 0.7702 - val_loss: 0.5165 - val_accuracy: 0.7639\n",
      "Epoch 3/30\n",
      "115/115 [==============================] - 0s 343us/step - loss: 0.4717 - accuracy: 0.8486 - val_loss: 0.4600 - val_accuracy: 0.8889\n",
      "Epoch 4/30\n",
      "115/115 [==============================] - 0s 316us/step - loss: 0.4269 - accuracy: 0.8825 - val_loss: 0.4247 - val_accuracy: 0.8715\n",
      "Epoch 5/30\n",
      "115/115 [==============================] - 0s 297us/step - loss: 0.3874 - accuracy: 0.9043 - val_loss: 0.3880 - val_accuracy: 0.9132\n",
      "Epoch 6/30\n",
      "115/115 [==============================] - 0s 284us/step - loss: 0.3528 - accuracy: 0.9130 - val_loss: 0.3475 - val_accuracy: 0.9306\n",
      "Epoch 7/30\n",
      "115/115 [==============================] - 0s 295us/step - loss: 0.3220 - accuracy: 0.9286 - val_loss: 0.3249 - val_accuracy: 0.9375\n",
      "Epoch 8/30\n",
      "115/115 [==============================] - 0s 307us/step - loss: 0.2945 - accuracy: 0.9434 - val_loss: 0.2937 - val_accuracy: 0.9514\n",
      "Epoch 9/30\n",
      "115/115 [==============================] - 0s 311us/step - loss: 0.2714 - accuracy: 0.9521 - val_loss: 0.2713 - val_accuracy: 0.9583\n",
      "Epoch 10/30\n",
      "115/115 [==============================] - 0s 352us/step - loss: 0.2497 - accuracy: 0.9643 - val_loss: 0.2543 - val_accuracy: 0.9618\n",
      "Epoch 11/30\n",
      "115/115 [==============================] - 0s 425us/step - loss: 0.2285 - accuracy: 0.9695 - val_loss: 0.2407 - val_accuracy: 0.9618\n",
      "Epoch 12/30\n",
      "115/115 [==============================] - 0s 309us/step - loss: 0.2135 - accuracy: 0.9774 - val_loss: 0.2271 - val_accuracy: 0.9618\n",
      "Epoch 13/30\n",
      "115/115 [==============================] - 0s 318us/step - loss: 0.1985 - accuracy: 0.9782 - val_loss: 0.2239 - val_accuracy: 0.9514\n",
      "Epoch 14/30\n",
      "115/115 [==============================] - 0s 359us/step - loss: 0.1815 - accuracy: 0.9817 - val_loss: 0.2203 - val_accuracy: 0.9479\n",
      "Epoch 15/30\n",
      "115/115 [==============================] - 0s 376us/step - loss: 0.1716 - accuracy: 0.9817 - val_loss: 0.1951 - val_accuracy: 0.9688\n",
      "Epoch 16/30\n",
      "115/115 [==============================] - 0s 318us/step - loss: 0.1611 - accuracy: 0.9852 - val_loss: 0.1760 - val_accuracy: 0.9688\n",
      "Epoch 17/30\n",
      "115/115 [==============================] - 0s 333us/step - loss: 0.1498 - accuracy: 0.9843 - val_loss: 0.1811 - val_accuracy: 0.9618\n",
      "Epoch 18/30\n",
      "115/115 [==============================] - 0s 301us/step - loss: 0.1392 - accuracy: 0.9861 - val_loss: 0.1624 - val_accuracy: 0.9757\n",
      "Epoch 19/30\n",
      "115/115 [==============================] - 0s 332us/step - loss: 0.1300 - accuracy: 0.9869 - val_loss: 0.1529 - val_accuracy: 0.9722\n",
      "Epoch 20/30\n",
      "115/115 [==============================] - 0s 320us/step - loss: 0.1225 - accuracy: 0.9861 - val_loss: 0.1387 - val_accuracy: 0.9792\n",
      "Epoch 21/30\n",
      "115/115 [==============================] - 0s 333us/step - loss: 0.1150 - accuracy: 0.9896 - val_loss: 0.1621 - val_accuracy: 0.9618\n",
      "Epoch 22/30\n",
      "115/115 [==============================] - 0s 360us/step - loss: 0.1113 - accuracy: 0.9913 - val_loss: 0.1260 - val_accuracy: 0.9792\n",
      "Epoch 23/30\n",
      "115/115 [==============================] - 0s 322us/step - loss: 0.1015 - accuracy: 0.9922 - val_loss: 0.1338 - val_accuracy: 0.9722\n",
      "Epoch 24/30\n",
      "115/115 [==============================] - 0s 331us/step - loss: 0.0929 - accuracy: 0.9930 - val_loss: 0.1157 - val_accuracy: 0.9826\n",
      "Epoch 25/30\n",
      "115/115 [==============================] - 0s 331us/step - loss: 0.0881 - accuracy: 0.9939 - val_loss: 0.1169 - val_accuracy: 0.9757\n",
      "Epoch 26/30\n",
      "115/115 [==============================] - 0s 306us/step - loss: 0.0834 - accuracy: 0.9956 - val_loss: 0.1256 - val_accuracy: 0.9722\n",
      "Epoch 27/30\n",
      "115/115 [==============================] - 0s 331us/step - loss: 0.0773 - accuracy: 0.9974 - val_loss: 0.1244 - val_accuracy: 0.9757\n",
      "Epoch 28/30\n",
      "115/115 [==============================] - 0s 316us/step - loss: 0.0720 - accuracy: 0.9956 - val_loss: 0.1130 - val_accuracy: 0.9722\n",
      "Epoch 29/30\n",
      "115/115 [==============================] - 0s 323us/step - loss: 0.0686 - accuracy: 0.9974 - val_loss: 0.1065 - val_accuracy: 0.9757\n",
      "Epoch 30/30\n",
      "115/115 [==============================] - 0s 321us/step - loss: 0.0643 - accuracy: 0.9983 - val_loss: 0.0952 - val_accuracy: 0.9826\n"
     ]
    },
    {
     "data": {
      "image/png": "[encoded data removed]",
      "text/plain": [
       "<Figure size 720x360 with 2 Axes>"
      ]
     },
     "metadata": {
      "needs_background": "light"
     },
     "output_type": "display_data"
    }
   ],
   "source": [
    "model = Sequential()\n",
    "model.add(Dense(12, activation='relu', input_dim=64))\n",
    "model.add(Dense(8, activation='relu'))\n",
    "model.add(Dense(1, activation='sigmoid'))\n",
    "\n",
    "model.compile(optimizer='adam',\n",
    "            loss='binary_crossentropy',\n",
    "            metrics=['accuracy'])\n",
    "\n",
    "\n",
    "## YOUR CODE HERE\n",
    "results = model.fit(\n",
    "    X_pure_train,y_pure_train,\n",
    "    validation_data=(\n",
    "        X_val,y_val\n",
    "    ),\n",
    "    # validation_split=0.3, # this gets the last n data\n",
    "    epochs=30,\n",
    "    batch_size=10,verbose=1\n",
    "    )\n",
    "\n",
    "train_loss = results.history['loss']\n",
    "train_acc = results.history['accuracy']\n",
    "val_loss = results.history['val_loss']\n",
    "val_acc = results.history['val_accuracy']\n",
    "\n",
    "fig, (ax1, ax2) = plt.subplots(1, 2, figsize=(10, 5))\n",
    "sns.lineplot(x=results.epoch, y=train_loss, ax=ax1, label='train_loss')\n",
    "sns.lineplot(x=results.epoch, y=train_acc, ax=ax2, label='train_accuracy')\n",
    "\n",
    "sns.lineplot(x=results.epoch, y=val_loss, ax=ax1, label='val_loss')\n",
    "sns.lineplot(x=results.epoch, y=val_acc, ax=ax2, label='val_accuracy');"
   ]
  },
  {
   "cell_type": "markdown",
   "metadata": {},
   "source": [
    "<details>\n",
    "    <summary>One answer here</summary>\n",
    "<code>model = Sequential()\n",
    "model.add(Dense(12, activation='relu', input_dim=64))\n",
    "model.add(Dense(8, activation='relu'))\n",
    "model.add(Dense(4, activation='relu'))\n",
    "model.add(Dense(1, activation='sigmoid'))\n",
    "model.compile(optimizer='adam',\n",
    "              loss='binary_crossentropy',\n",
    "              metrics=['accuracy'])\n",
    "results = model.fit(X_pure_train, y_pure_train,\n",
    "                   validation_data=(X_val, y_val),\n",
    "                   epochs=30, batch_size=10)\n",
    "train_loss = results.history['loss']\n",
    "train_acc = results.history['accuracy']\n",
    "val_loss = results.history['val_loss']\n",
    "val_acc = results.history['val_accuracy']\n",
    "fig, (ax1, ax2) = plt.subplots(1, 2, figsize=(10, 5))\n",
    "sns.lineplot(x=results.epoch, y=train_loss, ax=ax1, label='train_loss')\n",
    "sns.lineplot(x=results.epoch, y=train_acc, ax=ax2, label='train_accuracy')\n",
    "sns.lineplot(x=results.epoch, y=val_loss, ax=ax1, label='val_loss')\n",
    "sns.lineplot(x=results.epoch, y=val_acc, ax=ax2, label='val_accuracy');</code>\n",
    "</details>"
   ]
  },
  {
   "cell_type": "code",
   "execution_count": 31,
   "metadata": {},
   "outputs": [
    {
     "data": {
      "text/plain": [
       "(0.9982593655586243, 0.9826388955116272)"
      ]
     },
     "execution_count": 31,
     "metadata": {},
     "output_type": "execute_result"
    }
   ],
   "source": [
    "# Model validation accuracy at the end\n",
    "results.history['accuracy'][-1],results.history['val_accuracy'][-1]"
   ]
  },
  {
   "cell_type": "markdown",
   "metadata": {},
   "source": [
    "## Connecting with `sklearn`\n",
    "\n",
    "The `keras.wrappers` submodule means that we can turn `keras` models into estimators that `sklearn` tools will recognize."
   ]
  },
  {
   "cell_type": "code",
   "execution_count": 33,
   "metadata": {},
   "outputs": [],
   "source": [
    "# This will throw an error.\n",
    "\n",
    "# cross_val_score(model, X_pure_train, y_pure_train)"
   ]
  },
  {
   "cell_type": "code",
   "execution_count": 34,
   "metadata": {},
   "outputs": [],
   "source": [
    "# Need to define a function to build the model\n",
    "def build_model():\n",
    "    model = Sequential()\n",
    "    model.add(Dense(12,activation='relu',input_dim=64))\n",
    "    model.add(Dense(8,activation='relu'))\n",
    "    model.add(Dense(1,activation='sigmoid'))\n",
    "\n",
    "    model.compile(optimizer='adam',\n",
    "                    loss='binary_crossentropy',\n",
    "                    metrics=['accuracy'])\n",
    "    \n",
    "    return model"
   ]
  },
  {
   "cell_type": "code",
   "execution_count": 35,
   "metadata": {},
   "outputs": [],
   "source": [
    "keras_model = scikit_learn.KerasClassifier(build_model,\n",
    "                                        epochs=50,\n",
    "                                        batch_size=32,\n",
    "                                        verbose=1)"
   ]
  },
  {
   "cell_type": "code",
   "execution_count": 36,
   "metadata": {},
   "outputs": [
    {
     "data": {
      "text/plain": [
       "tensorflow.python.keras.wrappers.scikit_learn.KerasClassifier"
      ]
     },
     "execution_count": 36,
     "metadata": {},
     "output_type": "execute_result"
    }
   ],
   "source": [
    "type(keras_model)"
   ]
  },
  {
   "cell_type": "code",
   "execution_count": 37,
   "metadata": {},
   "outputs": [
    {
     "name": "stdout",
     "output_type": "stream",
     "text": [
      "Epoch 1/50\n",
      "24/24 [==============================] - 0s 229us/step - loss: 0.6540 - accuracy: 0.6854\n",
      "Epoch 2/50\n",
      "24/24 [==============================] - 0s 216us/step - loss: 0.5979 - accuracy: 0.7768\n",
      "Epoch 3/50\n",
      "24/24 [==============================] - 0s 239us/step - loss: 0.5258 - accuracy: 0.8159\n",
      "Epoch 4/50\n",
      "24/24 [==============================] - 0s 242us/step - loss: 0.4512 - accuracy: 0.8381\n",
      "Epoch 5/50\n",
      "24/24 [==============================] - 0s 265us/step - loss: 0.3858 - accuracy: 0.8551\n",
      "Epoch 6/50\n",
      "24/24 [==============================] - 0s 260us/step - loss: 0.3396 - accuracy: 0.8681\n",
      "Epoch 7/50\n",
      "24/24 [==============================] - 0s 260us/step - loss: 0.3097 - accuracy: 0.8812\n",
      "Epoch 8/50\n",
      "24/24 [==============================] - 0s 231us/step - loss: 0.2850 - accuracy: 0.8903\n",
      "Epoch 9/50\n",
      "24/24 [==============================] - 0s 223us/step - loss: 0.2706 - accuracy: 0.8982\n",
      "Epoch 10/50\n",
      "24/24 [==============================] - 0s 226us/step - loss: 0.2551 - accuracy: 0.8982\n",
      "Epoch 11/50\n",
      "24/24 [==============================] - 0s 279us/step - loss: 0.2426 - accuracy: 0.9047\n",
      "Epoch 12/50\n",
      "24/24 [==============================] - 0s 284us/step - loss: 0.2347 - accuracy: 0.9073\n",
      "Epoch 13/50\n",
      "24/24 [==============================] - 0s 256us/step - loss: 0.2257 - accuracy: 0.9138\n",
      "Epoch 14/50\n",
      "24/24 [==============================] - 0s 237us/step - loss: 0.2200 - accuracy: 0.9191\n",
      "Epoch 15/50\n",
      "24/24 [==============================] - 0s 240us/step - loss: 0.2119 - accuracy: 0.9230\n",
      "Epoch 16/50\n",
      "24/24 [==============================] - 0s 229us/step - loss: 0.2060 - accuracy: 0.9204\n",
      "Epoch 17/50\n",
      "24/24 [==============================] - 0s 223us/step - loss: 0.2034 - accuracy: 0.9256\n",
      "Epoch 18/50\n",
      "24/24 [==============================] - 0s 215us/step - loss: 0.1981 - accuracy: 0.9204\n",
      "Epoch 19/50\n",
      "24/24 [==============================] - 0s 280us/step - loss: 0.1911 - accuracy: 0.9230\n",
      "Epoch 20/50\n",
      "24/24 [==============================] - 0s 428us/step - loss: 0.1866 - accuracy: 0.9256\n",
      "Epoch 21/50\n",
      "24/24 [==============================] - 0s 303us/step - loss: 0.1834 - accuracy: 0.9269\n",
      "Epoch 22/50\n",
      "24/24 [==============================] - 0s 312us/step - loss: 0.1786 - accuracy: 0.9269\n",
      "Epoch 23/50\n",
      "24/24 [==============================] - 0s 279us/step - loss: 0.1748 - accuracy: 0.9321\n",
      "Epoch 24/50\n",
      "24/24 [==============================] - 0s 334us/step - loss: 0.1710 - accuracy: 0.9308\n",
      "Epoch 25/50\n",
      "24/24 [==============================] - 0s 292us/step - loss: 0.1652 - accuracy: 0.9321\n",
      "Epoch 26/50\n",
      "24/24 [==============================] - 0s 229us/step - loss: 0.1633 - accuracy: 0.9308\n",
      "Epoch 27/50\n",
      "24/24 [==============================] - 0s 289us/step - loss: 0.1592 - accuracy: 0.9321\n",
      "Epoch 28/50\n",
      "24/24 [==============================] - 0s 215us/step - loss: 0.1561 - accuracy: 0.9282\n",
      "Epoch 29/50\n",
      "24/24 [==============================] - 0s 239us/step - loss: 0.1518 - accuracy: 0.9334\n",
      "Epoch 30/50\n",
      "24/24 [==============================] - 0s 278us/step - loss: 0.1485 - accuracy: 0.9334\n",
      "Epoch 31/50\n",
      "24/24 [==============================] - 0s 292us/step - loss: 0.1463 - accuracy: 0.9360\n",
      "Epoch 32/50\n",
      "24/24 [==============================] - 0s 257us/step - loss: 0.1509 - accuracy: 0.9334\n",
      "Epoch 33/50\n",
      "24/24 [==============================] - 0s 253us/step - loss: 0.1418 - accuracy: 0.9347\n",
      "Epoch 34/50\n",
      "24/24 [==============================] - 0s 350us/step - loss: 0.1375 - accuracy: 0.9413\n",
      "Epoch 35/50\n",
      "24/24 [==============================] - 0s 329us/step - loss: 0.1312 - accuracy: 0.9465\n",
      "Epoch 36/50\n",
      "24/24 [==============================] - 0s 307us/step - loss: 0.1271 - accuracy: 0.9465\n",
      "Epoch 37/50\n",
      "24/24 [==============================] - 0s 255us/step - loss: 0.1242 - accuracy: 0.9478\n",
      "Epoch 38/50\n",
      "24/24 [==============================] - 0s 231us/step - loss: 0.1253 - accuracy: 0.9426\n",
      "Epoch 39/50\n",
      "24/24 [==============================] - 0s 240us/step - loss: 0.1203 - accuracy: 0.9530\n",
      "Epoch 40/50\n",
      "24/24 [==============================] - 0s 240us/step - loss: 0.1154 - accuracy: 0.9504\n",
      "Epoch 41/50\n",
      "24/24 [==============================] - 0s 246us/step - loss: 0.1133 - accuracy: 0.9556\n",
      "Epoch 42/50\n",
      "24/24 [==============================] - 0s 228us/step - loss: 0.1120 - accuracy: 0.9530\n",
      "Epoch 43/50\n",
      "24/24 [==============================] - 0s 269us/step - loss: 0.1083 - accuracy: 0.9569\n",
      "Epoch 44/50\n",
      "24/24 [==============================] - 0s 234us/step - loss: 0.1059 - accuracy: 0.9634\n",
      "Epoch 45/50\n",
      "24/24 [==============================] - 0s 215us/step - loss: 0.1080 - accuracy: 0.9608\n",
      "Epoch 46/50\n",
      "24/24 [==============================] - 0s 223us/step - loss: 0.1014 - accuracy: 0.9621\n",
      "Epoch 47/50\n",
      "24/24 [==============================] - 0s 215us/step - loss: 0.0986 - accuracy: 0.9648\n",
      "Epoch 48/50\n",
      "24/24 [==============================] - 0s 232us/step - loss: 0.0961 - accuracy: 0.9661\n",
      "Epoch 49/50\n",
      "24/24 [==============================] - 0s 224us/step - loss: 0.0951 - accuracy: 0.9621\n",
      "Epoch 50/50\n",
      "24/24 [==============================] - 0s 246us/step - loss: 0.0904 - accuracy: 0.9674\n",
      "12/12 [==============================] - 0s 248us/step - loss: 0.1854 - accuracy: 0.9217\n",
      "Epoch 1/50\n",
      "24/24 [==============================] - 0s 226us/step - loss: 0.7243 - accuracy: 0.5131\n",
      "Epoch 2/50\n",
      "24/24 [==============================] - 0s 272us/step - loss: 0.6680 - accuracy: 0.5170\n",
      "Epoch 3/50\n",
      "24/24 [==============================] - 0s 244us/step - loss: 0.6431 - accuracy: 0.5574\n",
      "Epoch 4/50\n",
      "24/24 [==============================] - 0s 231us/step - loss: 0.6126 - accuracy: 0.6305\n",
      "Epoch 5/50\n",
      "24/24 [==============================] - 0s 239us/step - loss: 0.5722 - accuracy: 0.7193\n",
      "Epoch 6/50\n",
      "24/24 [==============================] - 0s 276us/step - loss: 0.5295 - accuracy: 0.7546\n",
      "Epoch 7/50\n",
      "24/24 [==============================] - 0s 312us/step - loss: 0.4867 - accuracy: 0.8003\n",
      "Epoch 8/50\n",
      "24/24 [==============================] - 0s 227us/step - loss: 0.4456 - accuracy: 0.8198\n",
      "Epoch 9/50\n",
      "24/24 [==============================] - 0s 287us/step - loss: 0.4130 - accuracy: 0.8316\n",
      "Epoch 10/50\n",
      "24/24 [==============================] - 0s 254us/step - loss: 0.3789 - accuracy: 0.8433\n",
      "Epoch 11/50\n",
      "24/24 [==============================] - 0s 265us/step - loss: 0.3485 - accuracy: 0.8616\n",
      "Epoch 12/50\n",
      "24/24 [==============================] - 0s 245us/step - loss: 0.3215 - accuracy: 0.8734\n",
      "Epoch 13/50\n",
      "24/24 [==============================] - 0s 278us/step - loss: 0.2983 - accuracy: 0.8812\n",
      "Epoch 14/50\n",
      "24/24 [==============================] - 0s 267us/step - loss: 0.2742 - accuracy: 0.8890\n",
      "Epoch 15/50\n",
      "24/24 [==============================] - 0s 290us/step - loss: 0.2563 - accuracy: 0.8969\n",
      "Epoch 16/50\n",
      "24/24 [==============================] - 0s 243us/step - loss: 0.2381 - accuracy: 0.9008\n",
      "Epoch 17/50\n",
      "24/24 [==============================] - 0s 269us/step - loss: 0.2238 - accuracy: 0.9125\n",
      "Epoch 18/50\n",
      "24/24 [==============================] - 0s 225us/step - loss: 0.2165 - accuracy: 0.9151\n",
      "Epoch 19/50\n",
      "24/24 [==============================] - 0s 250us/step - loss: 0.2045 - accuracy: 0.9178\n",
      "Epoch 20/50\n",
      "24/24 [==============================] - 0s 227us/step - loss: 0.1931 - accuracy: 0.9217\n",
      "Epoch 21/50\n",
      "24/24 [==============================] - 0s 215us/step - loss: 0.1799 - accuracy: 0.9217\n",
      "Epoch 22/50\n",
      "24/24 [==============================] - 0s 203us/step - loss: 0.1725 - accuracy: 0.9217\n",
      "Epoch 23/50\n",
      "24/24 [==============================] - 0s 273us/step - loss: 0.1639 - accuracy: 0.9308\n",
      "Epoch 24/50\n",
      "24/24 [==============================] - 0s 256us/step - loss: 0.1588 - accuracy: 0.9347\n",
      "Epoch 25/50\n",
      "24/24 [==============================] - 0s 262us/step - loss: 0.1542 - accuracy: 0.9321\n",
      "Epoch 26/50\n",
      "24/24 [==============================] - 0s 248us/step - loss: 0.1465 - accuracy: 0.9347\n",
      "Epoch 27/50\n",
      "24/24 [==============================] - 0s 219us/step - loss: 0.1396 - accuracy: 0.9452\n",
      "Epoch 28/50\n",
      "24/24 [==============================] - 0s 255us/step - loss: 0.1347 - accuracy: 0.9465\n",
      "Epoch 29/50\n",
      "24/24 [==============================] - 0s 267us/step - loss: 0.1301 - accuracy: 0.9491\n",
      "Epoch 30/50\n",
      "24/24 [==============================] - 0s 269us/step - loss: 0.1266 - accuracy: 0.9491\n",
      "Epoch 31/50\n",
      "24/24 [==============================] - 0s 236us/step - loss: 0.1227 - accuracy: 0.9608\n",
      "Epoch 32/50\n",
      "24/24 [==============================] - 0s 222us/step - loss: 0.1212 - accuracy: 0.9543\n",
      "Epoch 33/50\n",
      "24/24 [==============================] - 0s 261us/step - loss: 0.1131 - accuracy: 0.9556\n",
      "Epoch 34/50\n",
      "24/24 [==============================] - 0s 213us/step - loss: 0.1156 - accuracy: 0.9556\n",
      "Epoch 35/50\n",
      "24/24 [==============================] - 0s 302us/step - loss: 0.1117 - accuracy: 0.9569\n",
      "Epoch 36/50\n",
      "24/24 [==============================] - 0s 237us/step - loss: 0.1059 - accuracy: 0.9569\n",
      "Epoch 37/50\n",
      "24/24 [==============================] - 0s 231us/step - loss: 0.1086 - accuracy: 0.9556\n",
      "Epoch 38/50\n",
      "24/24 [==============================] - 0s 234us/step - loss: 0.0995 - accuracy: 0.9621\n",
      "Epoch 39/50\n",
      "24/24 [==============================] - 0s 231us/step - loss: 0.0961 - accuracy: 0.9661\n",
      "Epoch 40/50\n",
      "24/24 [==============================] - 0s 225us/step - loss: 0.0947 - accuracy: 0.9661\n",
      "Epoch 41/50\n",
      "24/24 [==============================] - 0s 238us/step - loss: 0.0946 - accuracy: 0.9648\n",
      "Epoch 42/50\n",
      "24/24 [==============================] - 0s 244us/step - loss: 0.0906 - accuracy: 0.9661\n",
      "Epoch 43/50\n",
      "24/24 [==============================] - 0s 258us/step - loss: 0.0872 - accuracy: 0.9726\n",
      "Epoch 44/50\n",
      "24/24 [==============================] - 0s 250us/step - loss: 0.0851 - accuracy: 0.9713\n",
      "Epoch 45/50\n",
      "24/24 [==============================] - 0s 244us/step - loss: 0.0841 - accuracy: 0.9713\n",
      "Epoch 46/50\n",
      "24/24 [==============================] - 0s 216us/step - loss: 0.0865 - accuracy: 0.9674\n",
      "Epoch 47/50\n",
      "24/24 [==============================] - 0s 287us/step - loss: 0.0816 - accuracy: 0.9726\n",
      "Epoch 48/50\n",
      "24/24 [==============================] - 0s 238us/step - loss: 0.0844 - accuracy: 0.9661\n",
      "Epoch 49/50\n",
      "24/24 [==============================] - 0s 223us/step - loss: 0.0765 - accuracy: 0.9726\n",
      "Epoch 50/50\n",
      "24/24 [==============================] - 0s 228us/step - loss: 0.0749 - accuracy: 0.9700\n",
      "12/12 [==============================] - 0s 181us/step - loss: 0.1328 - accuracy: 0.9556\n",
      "Epoch 1/50\n",
      "24/24 [==============================] - 0s 267us/step - loss: 0.6543 - accuracy: 0.6462\n",
      "Epoch 2/50\n",
      "24/24 [==============================] - 0s 308us/step - loss: 0.5740 - accuracy: 0.7898\n",
      "Epoch 3/50\n",
      "24/24 [==============================] - 0s 344us/step - loss: 0.5092 - accuracy: 0.8094\n",
      "Epoch 4/50\n",
      "24/24 [==============================] - 0s 397us/step - loss: 0.4554 - accuracy: 0.8407\n",
      "Epoch 5/50\n",
      "24/24 [==============================] - 0s 351us/step - loss: 0.4147 - accuracy: 0.8394\n",
      "Epoch 6/50\n",
      "24/24 [==============================] - 0s 325us/step - loss: 0.3769 - accuracy: 0.8525\n",
      "Epoch 7/50\n",
      "24/24 [==============================] - 0s 290us/step - loss: 0.3486 - accuracy: 0.8629\n",
      "Epoch 8/50\n",
      "24/24 [==============================] - 0s 258us/step - loss: 0.3259 - accuracy: 0.8695\n",
      "Epoch 9/50\n",
      "24/24 [==============================] - 0s 237us/step - loss: 0.3088 - accuracy: 0.8851\n",
      "Epoch 10/50\n",
      "24/24 [==============================] - 0s 245us/step - loss: 0.2895 - accuracy: 0.8799\n",
      "Epoch 11/50\n",
      "24/24 [==============================] - 0s 243us/step - loss: 0.2751 - accuracy: 0.8916\n",
      "Epoch 12/50\n",
      "24/24 [==============================] - 0s 264us/step - loss: 0.2602 - accuracy: 0.8930\n",
      "Epoch 13/50\n",
      "24/24 [==============================] - 0s 289us/step - loss: 0.2476 - accuracy: 0.8956\n",
      "Epoch 14/50\n",
      "24/24 [==============================] - 0s 244us/step - loss: 0.2375 - accuracy: 0.9034\n",
      "Epoch 15/50\n",
      "24/24 [==============================] - 0s 240us/step - loss: 0.2335 - accuracy: 0.9060\n",
      "Epoch 16/50\n",
      "24/24 [==============================] - 0s 314us/step - loss: 0.2226 - accuracy: 0.9021\n",
      "Epoch 17/50\n",
      "24/24 [==============================] - 0s 274us/step - loss: 0.2124 - accuracy: 0.9125\n",
      "Epoch 18/50\n",
      "24/24 [==============================] - 0s 246us/step - loss: 0.2083 - accuracy: 0.9125\n",
      "Epoch 19/50\n",
      "24/24 [==============================] - 0s 255us/step - loss: 0.2063 - accuracy: 0.9164\n",
      "Epoch 20/50\n",
      "24/24 [==============================] - 0s 262us/step - loss: 0.2006 - accuracy: 0.9125\n",
      "Epoch 21/50\n",
      "24/24 [==============================] - 0s 385us/step - loss: 0.1928 - accuracy: 0.9178\n",
      "Epoch 22/50\n",
      "24/24 [==============================] - 0s 289us/step - loss: 0.1879 - accuracy: 0.9204\n",
      "Epoch 23/50\n",
      "24/24 [==============================] - 0s 384us/step - loss: 0.1849 - accuracy: 0.9230\n",
      "Epoch 24/50\n",
      "24/24 [==============================] - 0s 418us/step - loss: 0.1853 - accuracy: 0.9151\n",
      "Epoch 25/50\n",
      "24/24 [==============================] - 0s 336us/step - loss: 0.1777 - accuracy: 0.9204\n",
      "Epoch 26/50\n",
      "24/24 [==============================] - 0s 321us/step - loss: 0.1731 - accuracy: 0.9217\n",
      "Epoch 27/50\n",
      "24/24 [==============================] - 0s 239us/step - loss: 0.1709 - accuracy: 0.9217\n",
      "Epoch 28/50\n",
      "24/24 [==============================] - 0s 318us/step - loss: 0.1668 - accuracy: 0.9243\n",
      "Epoch 29/50\n",
      "24/24 [==============================] - 0s 277us/step - loss: 0.1668 - accuracy: 0.9230\n",
      "Epoch 30/50\n",
      "24/24 [==============================] - 0s 252us/step - loss: 0.1634 - accuracy: 0.9256\n",
      "Epoch 31/50\n",
      "24/24 [==============================] - 0s 221us/step - loss: 0.1604 - accuracy: 0.9282\n",
      "Epoch 32/50\n",
      "24/24 [==============================] - 0s 242us/step - loss: 0.1621 - accuracy: 0.9269\n",
      "Epoch 33/50\n",
      "24/24 [==============================] - 0s 290us/step - loss: 0.1547 - accuracy: 0.9347\n",
      "Epoch 34/50\n",
      "24/24 [==============================] - 0s 253us/step - loss: 0.1536 - accuracy: 0.9295\n",
      "Epoch 35/50\n",
      "24/24 [==============================] - 0s 304us/step - loss: 0.1510 - accuracy: 0.9334\n",
      "Epoch 36/50\n",
      "24/24 [==============================] - 0s 205us/step - loss: 0.1517 - accuracy: 0.9334\n",
      "Epoch 37/50\n",
      "24/24 [==============================] - 0s 258us/step - loss: 0.1457 - accuracy: 0.9386\n",
      "Epoch 38/50\n",
      "24/24 [==============================] - 0s 228us/step - loss: 0.1458 - accuracy: 0.9373\n",
      "Epoch 39/50\n",
      "24/24 [==============================] - 0s 293us/step - loss: 0.1431 - accuracy: 0.9373\n",
      "Epoch 40/50\n",
      "24/24 [==============================] - 0s 231us/step - loss: 0.1425 - accuracy: 0.9439\n",
      "Epoch 41/50\n",
      "24/24 [==============================] - 0s 230us/step - loss: 0.1388 - accuracy: 0.9386\n",
      "Epoch 42/50\n",
      "24/24 [==============================] - 0s 227us/step - loss: 0.1435 - accuracy: 0.9439\n",
      "Epoch 43/50\n",
      "24/24 [==============================] - 0s 212us/step - loss: 0.1393 - accuracy: 0.9465\n",
      "Epoch 44/50\n",
      "24/24 [==============================] - 0s 234us/step - loss: 0.1348 - accuracy: 0.9386\n",
      "Epoch 45/50\n",
      "24/24 [==============================] - 0s 324us/step - loss: 0.1309 - accuracy: 0.9439\n",
      "Epoch 46/50\n",
      "24/24 [==============================] - 0s 275us/step - loss: 0.1299 - accuracy: 0.9465\n",
      "Epoch 47/50\n",
      "24/24 [==============================] - 0s 282us/step - loss: 0.1287 - accuracy: 0.9426\n",
      "Epoch 48/50\n",
      "24/24 [==============================] - 0s 232us/step - loss: 0.1245 - accuracy: 0.9491\n",
      "Epoch 49/50\n",
      "24/24 [==============================] - 0s 284us/step - loss: 0.1233 - accuracy: 0.9439\n",
      "Epoch 50/50\n",
      "24/24 [==============================] - 0s 222us/step - loss: 0.1230 - accuracy: 0.9478\n",
      "12/12 [==============================] - 0s 194us/step - loss: 0.1828 - accuracy: 0.9243\n"
     ]
    },
    {
     "data": {
      "text/plain": [
       "array([0.92167103, 0.95561355, 0.92428195])"
      ]
     },
     "execution_count": 37,
     "metadata": {},
     "output_type": "execute_result"
    }
   ],
   "source": [
    "cross_val_score(keras_model, X_pure_train, y_pure_train, cv=3)"
   ]
  },
  {
   "cell_type": "markdown",
   "metadata": {},
   "source": [
    "## Regularization"
   ]
  },
  {
   "cell_type": "markdown",
   "metadata": {},
   "source": [
    "Does regularization make sense in the context of neural networks? <br/>\n",
    "\n",
    "Yes! We still have all of the salient ingredients: a loss function, overfitting vs. underfitting, and coefficients (weights) that could get too large.\n",
    "\n",
    "But there are now a few different flavors besides L1 and L2 regularization. (Note that L1 regularization is not common in the context of  neural networks.)\n",
    "\n",
    "We'll add a few more layers to give regularization a better chance of making a difference!"
   ]
  },
  {
   "cell_type": "code",
   "execution_count": 38,
   "metadata": {},
   "outputs": [
    {
     "data": {
      "image/png": "[encoded data removed]",
      "text/plain": [
       "<Figure size 720x360 with 2 Axes>"
      ]
     },
     "metadata": {
      "needs_background": "light"
     },
     "output_type": "display_data"
    }
   ],
   "source": [
    "model = Sequential()\n",
    "model.add(Dense(30, activation='relu', input_dim=64))\n",
    "\n",
    "# We can add L2 (or L1) regularization right into\n",
    "# the layer with the kernel_regularizer parameter.\n",
    "\n",
    "model.add(Dense(20, activation='relu',\n",
    "    kernel_regularizer=l2(l2=0.05)))\n",
    "\n",
    "# Note that there is also a bias_regularizer,\n",
    "# but this tends to have less effect.\n",
    "\n",
    "model.add(Dense(12, activation='relu'))\n",
    "model.add(Dense(12, activation='relu'))\n",
    "model.add(Dense(12, activation='relu'))\n",
    "model.add(Dense(8, activation='relu'))\n",
    "model.add(Dense(4, activation='relu'))\n",
    "model.add(Dense(1, activation ='sigmoid'))\n",
    "\n",
    "model.compile(optimizer='adam',\n",
    "            loss='binary_crossentropy',\n",
    "            metrics=['accuracy'])\n",
    "\n",
    "results = model.fit(X_pure_train, y_pure_train, epochs=20, batch_size=32,\n",
    "                    verbose=0, validation_data=(X_val, y_val))\n",
    "\n",
    "train_loss = results.history['loss']\n",
    "train_acc = results.history['accuracy']\n",
    "val_loss = results.history['val_loss']\n",
    "val_acc = results.history['val_accuracy']\n",
    "\n",
    "\n",
    "fig, (ax1, ax2) = plt.subplots(1, 2, figsize=(10, 5))\n",
    "sns.lineplot(x=results.epoch, y=train_loss, ax=ax1, label='train_loss')\n",
    "sns.lineplot(x=results.epoch, y=train_acc, ax=ax2, label='train_accuracy')\n",
    "\n",
    "sns.lineplot(x=results.epoch, y=val_loss, ax=ax1, label='val_loss')\n",
    "sns.lineplot(x=results.epoch, y=val_acc, ax=ax2, label='val_accuracy');"
   ]
  },
  {
   "cell_type": "markdown",
   "metadata": {},
   "source": [
    "Adding L2 to multiple layers:"
   ]
  },
  {
   "cell_type": "code",
   "execution_count": 39,
   "metadata": {},
   "outputs": [
    {
     "data": {
      "image/png": "[encoded data removed]",
      "text/plain": [
       "<Figure size 720x360 with 2 Axes>"
      ]
     },
     "metadata": {
      "needs_background": "light"
     },
     "output_type": "display_data"
    }
   ],
   "source": [
    "model = Sequential()\n",
    "model.add(Dense(30, activation='relu',\n",
    "                input_dim=64))\n",
    "model.add(Dense(20, activation='relu',\n",
    "                kernel_regularizer=l2(l2=0.01)))\n",
    "\n",
    "model.add(Dense(12, activation='relu',\n",
    "                kernel_regularizer=l2(l2=0.01)))\n",
    "model.add(Dense(12, activation='relu',\n",
    "                kernel_regularizer=l2(l2=0.01)))\n",
    "model.add(Dense(12, activation='relu',\n",
    "                kernel_regularizer=l2(l2=0.01)))\n",
    "model.add(Dense(8, activation='relu',\n",
    "                kernel_regularizer=l2(l2=0.01)))\n",
    "model.add(Dense(4, activation='relu',\n",
    "                kernel_regularizer=l2(l2=0.01)))\n",
    "model.add(Dense(1, activation='sigmoid'))\n",
    "\n",
    "model.compile(optimizer='adam',\n",
    "            loss='binary_crossentropy',\n",
    "            metrics=['accuracy'])\n",
    "\n",
    "results = model.fit(X_pure_train, y_pure_train, epochs=20, batch_size=32,\n",
    "                    verbose=0, validation_data=(X_val, y_val))\n",
    "\n",
    "train_loss = results.history['loss']\n",
    "train_acc = results.history['accuracy']\n",
    "val_loss = results.history['val_loss']\n",
    "val_acc = results.history['val_accuracy']\n",
    "\n",
    "\n",
    "fig, (ax1, ax2) = plt.subplots(1, 2, figsize=(10, 5))\n",
    "sns.lineplot(x=results.epoch, y=train_loss, ax=ax1, label='train_loss')\n",
    "sns.lineplot(x=results.epoch, y=train_acc, ax=ax2, label='train_accuracy')\n",
    "\n",
    "sns.lineplot(x=results.epoch, y=val_loss, ax=ax1, label='val_loss')\n",
    "sns.lineplot(x=results.epoch, y=val_acc, ax=ax2, label='val_accuracy');"
   ]
  },
  {
   "cell_type": "markdown",
   "metadata": {},
   "source": [
    "### Dropout\n",
    "\n",
    "We can also specify a dropout layer in keras, which randomly shuts off different nodes during training. This can help to prevent overfitting.\n",
    "\n",
    "![drop_out](images/drop_out.png)"
   ]
  },
  {
   "cell_type": "markdown",
   "metadata": {},
   "source": [
    "### Exercise\n",
    "\n",
    "To add dropout to a `keras` network, simply add it as though it were a layer. It will apply to the immediately preceding layer.\n",
    "\n",
    "Add Dropout to one or more layers below."
   ]
  },
  {
   "cell_type": "code",
   "execution_count": 40,
   "metadata": {},
   "outputs": [
    {
     "data": {
      "image/png": "[encoded data removed]",
      "text/plain": [
       "<Figure size 720x360 with 2 Axes>"
      ]
     },
     "metadata": {
      "needs_background": "light"
     },
     "output_type": "display_data"
    }
   ],
   "source": [
    "model = Sequential()\n",
    "model.add(Dense(30, activation='relu', input_dim=64))\n",
    "model.add(Dropout(rate=0.5))\n",
    "model.add(Dense(20, activation='relu'))\n",
    "model.add(Dropout(rate=0.2))\n",
    "model.add(Dense(12, activation='relu'))\n",
    "model.add(Dense(12, activation='relu'))\n",
    "model.add(Dense(12, activation='relu'))\n",
    "model.add(Dense(8, activation='relu'))\n",
    "model.add(Dense(4, activation='relu'))\n",
    "model.add(Dense(1, activation ='sigmoid'))\n",
    "\n",
    "model.compile(optimizer='adam',\n",
    "            loss='binary_crossentropy',\n",
    "            metrics=['accuracy'])\n",
    "\n",
    "results = model.fit(X_pure_train, y_pure_train, epochs=50,\n",
    "                    batch_size= 32, verbose=0,\n",
    "                    validation_data=(X_val, y_val))\n",
    "\n",
    "train_loss = results.history['loss']\n",
    "train_acc = results.history['accuracy']\n",
    "val_loss = results.history['val_loss']\n",
    "val_acc = results.history['val_accuracy']\n",
    "\n",
    "\n",
    "fig, (ax1, ax2) = plt.subplots(1, 2, figsize=(10, 5))\n",
    "sns.lineplot(x=results.epoch, y=train_loss, ax=ax1, label='train_loss')\n",
    "sns.lineplot(x=results.epoch, y=train_acc, ax=ax2, label='train_accuracy')\n",
    "\n",
    "sns.lineplot(x=results.epoch, y=val_loss, ax=ax1, label='val_loss')\n",
    "sns.lineplot(x=results.epoch, y=val_acc, ax=ax2, label='val_accuracy');"
   ]
  },
  {
   "attachments": {},
   "cell_type": "markdown",
   "metadata": {},
   "source": [
    "<!-- <details>\n",
    "    <summary>One answer here</summary> -->\n",
    "```python\n",
    "model = Sequential()\n",
    "model.add(Dense(30, activation='relu', input_dim=64))\n",
    "model.add(Dense(20, activation='relu'))\n",
    "model.add(Dropout(0.5))\n",
    "model.add(Dense(12, activation='relu'))\n",
    "model.add(Dropout(0.2))\n",
    "model.add(Dense(12, activation='relu'))\n",
    "model.add(Dense(12, activation='relu'))\n",
    "model.add(Dense(8, activation='relu'))\n",
    "model.add(Dense(4, activation='relu'))\n",
    "model.add(Dense(1, activation ='sigmoid'))\n",
    "\n",
    "model.compile(optimizer='adam',\n",
    "              loss='binary_crossentropy',\n",
    "              metrics=['accuracy'])\n",
    "\n",
    "results = model.fit(X_pure_train, y_pure_train, epochs=50,\n",
    "                    batch_size= 32, verbose=0,\n",
    "                    validation_data=(X_val, y_val))\n",
    "\n",
    "train_loss = results.history['loss']\n",
    "train_acc = results.history['accuracy']\n",
    "val_loss = results.history['val_loss']\n",
    "val_acc = results.history['val_accuracy']\n",
    "\n",
    "\n",
    "fig, (ax1, ax2) = plt.subplots(1, 2, figsize=(10, 5))\n",
    "sns.lineplot(x=results.epoch, y=train_loss, ax=ax1, label='train_loss')\n",
    "sns.lineplot(x=results.epoch, y=train_acc, ax=ax2, label='train_accuracy')\n",
    "\n",
    "sns.lineplot(x=results.epoch, y=val_loss, ax=ax1, label='val_loss')\n",
    "sns.lineplot(x=results.epoch, y=val_acc, ax=ax2, label='val_accuracy');\n",
    "```\n",
    "<!-- </details> -->"
   ]
  },
  {
   "cell_type": "code",
   "execution_count": 41,
   "metadata": {},
   "outputs": [
    {
     "data": {
      "text/plain": [
       "0.9756944179534912"
      ]
     },
     "execution_count": 41,
     "metadata": {},
     "output_type": "execute_result"
    }
   ],
   "source": [
    "results.history['val_accuracy'][-1]"
   ]
  },
  {
   "cell_type": "markdown",
   "metadata": {},
   "source": [
    "### Early Stopping"
   ]
  },
  {
   "cell_type": "markdown",
   "metadata": {},
   "source": [
    "We can also tell our neural network to stop once it stops realizing any gain.\n",
    "\n",
    "Here we tell it to stop once the a very small positive change in the validation loss occurs:"
   ]
  },
  {
   "cell_type": "code",
   "execution_count": 42,
   "metadata": {},
   "outputs": [
    {
     "name": "stdout",
     "output_type": "stream",
     "text": [
      "Epoch 00009: early stopping\n"
     ]
    },
    {
     "data": {
      "image/png": "[encoded data removed]",
      "text/plain": [
       "<Figure size 720x360 with 2 Axes>"
      ]
     },
     "metadata": {
      "needs_background": "light"
     },
     "output_type": "display_data"
    }
   ],
   "source": [
    "model = Sequential()\n",
    "model.add(Dense(30, activation='relu', input_dim=64))\n",
    "model.add(Dense(20, activation='relu'))\n",
    "model.add(Dropout(0.5))\n",
    "model.add(Dense(12, activation='relu'))\n",
    "model.add(Dense(12, activation='relu'))\n",
    "model.add(Dense(12, activation='relu'))\n",
    "model.add(Dense(8, activation='relu'))\n",
    "model.add(Dense(4, activation='relu'))\n",
    "model.add(Dense(1, activation ='sigmoid'))\n",
    "\n",
    "model.compile(optimizer='adam',\n",
    "                loss='binary_crossentropy',\n",
    "                metrics=['accuracy'])\n",
    "\n",
    "# Define the EarlyStopping object\n",
    "early_stop = EarlyStopping(\n",
    "    monitor='val_loss',min_delta=1e-8,\n",
    "    verbose=1,mode='min'\n",
    ")\n",
    "\n",
    "# Place this in a list as the value of the `callbacks` parameter\n",
    "# in the `.fit()` method.\n",
    "results = model.fit(X_pure_train, y_pure_train,\n",
    "                    epochs=20, batch_size=32,\n",
    "                    verbose=0, validation_data=(X_val, y_val),\n",
    "                    callbacks=[early_stop])\n",
    "\n",
    "train_loss = results.history['loss']\n",
    "train_acc = results.history['accuracy']\n",
    "val_loss = results.history['val_loss']\n",
    "val_acc = results.history['val_accuracy']\n",
    "\n",
    "\n",
    "fig, (ax1, ax2) = plt.subplots(1, 2, figsize=(10, 5))\n",
    "sns.lineplot(x=results.epoch, y=train_loss, ax=ax1, label='train_loss')\n",
    "sns.lineplot(x=results.epoch, y=train_acc, ax=ax2, label='train_accuracy')\n",
    "\n",
    "sns.lineplot(x=results.epoch, y=val_loss, ax=ax1, label='val_loss')\n",
    "sns.lineplot(x=results.epoch, y=val_acc, ax=ax2, label='val_accuracy')\n",
    "ax1.set(ylim=[0,1])\n",
    "ax2.set(ylim=[0,1]);"
   ]
  },
  {
   "cell_type": "markdown",
   "metadata": {},
   "source": [
    "### Exercise\n",
    "\n",
    "That probably stopped too early. We can specify the number of epochs in which it doesn't see decrease in the loss with the `patience` parameter. Modify the code below to include an Early Stop with a patience of 5 epochs."
   ]
  },
  {
   "cell_type": "code",
   "execution_count": 43,
   "metadata": {},
   "outputs": [
    {
     "name": "stdout",
     "output_type": "stream",
     "text": [
      "Epoch 1/100\n",
      "36/36 [==============================] - 0s 2ms/step - loss: 0.6908 - accuracy: 0.5117 - val_loss: 0.6877 - val_accuracy: 0.6458\n",
      "Epoch 2/100\n",
      "36/36 [==============================] - 0s 493us/step - loss: 0.6697 - accuracy: 0.5370 - val_loss: 0.6395 - val_accuracy: 0.6736\n",
      "Epoch 3/100\n",
      "36/36 [==============================] - 0s 498us/step - loss: 0.5894 - accuracy: 0.6980 - val_loss: 0.5372 - val_accuracy: 0.8229\n",
      "Epoch 4/100\n",
      "36/36 [==============================] - 0s 457us/step - loss: 0.5029 - accuracy: 0.8068 - val_loss: 0.4759 - val_accuracy: 0.8438\n",
      "Epoch 5/100\n",
      "36/36 [==============================] - 0s 680us/step - loss: 0.4455 - accuracy: 0.8277 - val_loss: 0.3967 - val_accuracy: 0.8750\n",
      "Epoch 6/100\n",
      "36/36 [==============================] - 0s 507us/step - loss: 0.3850 - accuracy: 0.8468 - val_loss: 0.3218 - val_accuracy: 0.8924\n",
      "Epoch 7/100\n",
      "36/36 [==============================] - 0s 583us/step - loss: 0.3199 - accuracy: 0.8660 - val_loss: 0.2715 - val_accuracy: 0.9097\n",
      "Epoch 8/100\n",
      "36/36 [==============================] - 0s 543us/step - loss: 0.2484 - accuracy: 0.9051 - val_loss: 0.2145 - val_accuracy: 0.9236\n",
      "Epoch 9/100\n",
      "36/36 [==============================] - 0s 489us/step - loss: 0.2204 - accuracy: 0.9173 - val_loss: 0.1698 - val_accuracy: 0.9410\n",
      "Epoch 10/100\n",
      "36/36 [==============================] - 0s 553us/step - loss: 0.1890 - accuracy: 0.9243 - val_loss: 0.1645 - val_accuracy: 0.9375\n",
      "Epoch 11/100\n",
      "36/36 [==============================] - 0s 537us/step - loss: 0.1754 - accuracy: 0.9399 - val_loss: 0.1413 - val_accuracy: 0.9514\n",
      "Epoch 12/100\n",
      "36/36 [==============================] - 0s 476us/step - loss: 0.1465 - accuracy: 0.9443 - val_loss: 0.1427 - val_accuracy: 0.9514\n",
      "Epoch 13/100\n",
      "36/36 [==============================] - 0s 475us/step - loss: 0.1368 - accuracy: 0.9521 - val_loss: 0.1284 - val_accuracy: 0.9583\n",
      "Epoch 14/100\n",
      "36/36 [==============================] - 0s 459us/step - loss: 0.1347 - accuracy: 0.9539 - val_loss: 0.1269 - val_accuracy: 0.9549\n",
      "Epoch 15/100\n",
      "36/36 [==============================] - 0s 486us/step - loss: 0.1064 - accuracy: 0.9600 - val_loss: 0.1312 - val_accuracy: 0.9583\n",
      "Epoch 16/100\n",
      "36/36 [==============================] - 0s 517us/step - loss: 0.1090 - accuracy: 0.9652 - val_loss: 0.1202 - val_accuracy: 0.9549\n",
      "Epoch 17/100\n",
      "36/36 [==============================] - 0s 526us/step - loss: 0.1050 - accuracy: 0.9582 - val_loss: 0.1247 - val_accuracy: 0.9688\n",
      "Epoch 18/100\n",
      "36/36 [==============================] - 0s 467us/step - loss: 0.1058 - accuracy: 0.9591 - val_loss: 0.1121 - val_accuracy: 0.9688\n",
      "Epoch 19/100\n",
      "36/36 [==============================] - 0s 463us/step - loss: 0.0959 - accuracy: 0.9652 - val_loss: 0.1121 - val_accuracy: 0.9688\n",
      "Epoch 20/100\n",
      "36/36 [==============================] - 0s 448us/step - loss: 0.0719 - accuracy: 0.9800 - val_loss: 0.1086 - val_accuracy: 0.9757\n",
      "Epoch 21/100\n",
      "36/36 [==============================] - 0s 463us/step - loss: 0.0810 - accuracy: 0.9704 - val_loss: 0.0972 - val_accuracy: 0.9722\n",
      "Epoch 22/100\n",
      "36/36 [==============================] - 0s 472us/step - loss: 0.0697 - accuracy: 0.9739 - val_loss: 0.0976 - val_accuracy: 0.9722\n",
      "Epoch 23/100\n",
      "36/36 [==============================] - 0s 516us/step - loss: 0.0684 - accuracy: 0.9756 - val_loss: 0.1056 - val_accuracy: 0.9653\n",
      "Epoch 24/100\n",
      "36/36 [==============================] - 0s 459us/step - loss: 0.0818 - accuracy: 0.9678 - val_loss: 0.1028 - val_accuracy: 0.9757\n",
      "Epoch 25/100\n",
      "36/36 [==============================] - 0s 463us/step - loss: 0.0677 - accuracy: 0.9756 - val_loss: 0.1031 - val_accuracy: 0.9653\n",
      "Epoch 26/100\n",
      "36/36 [==============================] - 0s 520us/step - loss: 0.0655 - accuracy: 0.9756 - val_loss: 0.1110 - val_accuracy: 0.9688\n",
      "Epoch 00026: early stopping\n"
     ]
    },
    {
     "data": {
      "image/png": "[encoded data removed]",
      "text/plain": [
       "<Figure size 720x360 with 2 Axes>"
      ]
     },
     "metadata": {
      "needs_background": "light"
     },
     "output_type": "display_data"
    }
   ],
   "source": [
    "model = Sequential()\n",
    "model.add(Dense(30, activation='relu', input_dim=64))\n",
    "model.add(Dense(20, activation='relu'))\n",
    "model.add(Dropout(0.5))\n",
    "model.add(Dense(12, activation='relu'))\n",
    "model.add(Dense(12, activation='relu'))\n",
    "model.add(Dense(12, activation='relu'))\n",
    "model.add(Dense(8, activation='relu'))\n",
    "model.add(Dense(4, activation='relu'))\n",
    "model.add(Dense(1, activation ='sigmoid'))\n",
    "\n",
    "model.compile(optimizer='adam',\n",
    "            loss='binary_crossentropy',\n",
    "            metrics=['accuracy'])\n",
    "\n",
    "# Define the EarlyStopping object\n",
    "early_stop = EarlyStopping(monitor='val_loss', min_delta=1e-8,\n",
    "                            verbose=1, patience=5,\n",
    "                            mode='min')\n",
    "\n",
    "# Place this in a list as the value of the `callbacks` parameter\n",
    "# in the `.fit()` method.\n",
    "results = model.fit(X_pure_train, y_pure_train,\n",
    "                    epochs=100, batch_size= 32,\n",
    "                    verbose=1, validation_data=(X_val, y_val),\n",
    "                    callbacks=[early_stop])\n",
    "\n",
    "train_loss = results.history['loss']\n",
    "train_acc = results.history['accuracy']\n",
    "val_loss = results.history['val_loss']\n",
    "val_acc = results.history['val_accuracy']\n",
    "\n",
    "\n",
    "fig, (ax1, ax2) = plt.subplots(1, 2, figsize=(10, 5))\n",
    "sns.lineplot(x=results.epoch, y=train_loss, ax=ax1, label='train_loss')\n",
    "sns.lineplot(x=results.epoch, y=train_acc, ax=ax2, label='train_accuracy')\n",
    "\n",
    "sns.lineplot(x=results.epoch, y=val_loss, ax=ax1, label='val_loss')\n",
    "sns.lineplot(x=results.epoch, y=val_acc, ax=ax2, label='val_accuracy');"
   ]
  },
  {
   "cell_type": "markdown",
   "metadata": {},
   "source": [
    "<details>\n",
    "    <summary>One answer here</summary>\n",
    "<code>model = Sequential()\n",
    "model.add(Dense(30, activation='relu', input_dim=64))\n",
    "model.add(Dense(20, activation='relu'))\n",
    "model.add(Dropout(0.5))\n",
    "model.add(Dense(12, activation='relu'))\n",
    "model.add(Dense(12, activation='relu'))\n",
    "model.add(Dense(12, activation='relu'))\n",
    "model.add(Dense(8, activation='relu'))\n",
    "model.add(Dense(4, activation='relu'))\n",
    "model.add(Dense(1, activation ='sigmoid'))\n",
    "\n",
    "model.compile(optimizer='adam',\n",
    "              loss='binary_crossentropy',\n",
    "              metrics=['accuracy'])\n",
    "\n",
    "# Define the EarlyStopping object\n",
    "\n",
    "\n",
    "\n",
    "# Place this in a list as the value of the `callbacks` parameter\n",
    "# in the `.fit()` method.\n",
    "results = model.fit(X_pure_train, y_pure_train,\n",
    "                    epochs=50, batch_size= 32,\n",
    "                    verbose=0, validation_data=(X_val, y_val),\n",
    "                    callbacks=[early_stop])\n",
    "\n",
    "train_loss = results.history['loss']\n",
    "train_acc = results.history['accuracy']\n",
    "val_loss = results.history['val_loss']\n",
    "val_acc = results.history['val_accuracy']\n",
    "\n",
    "\n",
    "fig, (ax1, ax2) = plt.subplots(1, 2, figsize=(10, 5))\n",
    "sns.lineplot(x=results.epoch, y=train_loss, ax=ax1, label='train_loss')\n",
    "sns.lineplot(x=results.epoch, y=train_acc, ax=ax2, label='train_accuracy')\n",
    "\n",
    "sns.lineplot(x=results.epoch, y=val_loss, ax=ax1, label='val_loss')\n",
    "sns.lineplot(x=results.epoch, y=val_acc, ax=ax2, label='val_accuracy');</code>\n",
    "</details>"
   ]
  },
  {
   "cell_type": "code",
   "execution_count": 44,
   "metadata": {},
   "outputs": [
    {
     "data": {
      "text/plain": [
       "0.96875"
      ]
     },
     "execution_count": 44,
     "metadata": {},
     "output_type": "execute_result"
    }
   ],
   "source": [
    "results.history['val_accuracy'][-1]"
   ]
  },
  {
   "cell_type": "markdown",
   "metadata": {},
   "source": [
    "## Multiclass Classification and Softmax"
   ]
  },
  {
   "cell_type": "markdown",
   "metadata": {},
   "source": [
    "Now let's return to the problem of predicting digits 0 through 9."
   ]
  },
  {
   "cell_type": "code",
   "execution_count": 45,
   "metadata": {},
   "outputs": [],
   "source": [
    "digits = load_digits()\n",
    "X = digits.data\n",
    "y = digits.target"
   ]
  },
  {
   "cell_type": "code",
   "execution_count": 46,
   "metadata": {},
   "outputs": [],
   "source": [
    "X_train, X_test, y_train, y_test = train_test_split(X, y,\n",
    "                                                    random_state=42,\n",
    "                                                    test_size=0.2)\n",
    "X_pure_train, X_val, y_pure_train, y_val =\\\n",
    "    train_test_split(X_train, y_train,\n",
    "                     random_state=42, test_size=0.2)\n",
    "X_pure_train, X_val, X_test = X_pure_train/16, X_val/16, X_test/16"
   ]
  },
  {
   "cell_type": "markdown",
   "metadata": {},
   "source": [
    "For a multiclass output, our neural net expects our target to be in a certain form."
   ]
  },
  {
   "cell_type": "code",
   "execution_count": 47,
   "metadata": {},
   "outputs": [],
   "source": [
    "ohe = OneHotEncoder(sparse=False)\n",
    "y_pure_train = ohe.fit_transform(y_pure_train.reshape(-1,1))\n",
    "y_val = ohe.transform(y_val.reshape(-1,1))\n",
    "y_test = ohe.transform(y_test.reshape(-1,1))"
   ]
  },
  {
   "cell_type": "code",
   "execution_count": 48,
   "metadata": {},
   "outputs": [
    {
     "data": {
      "text/plain": [
       "array([[0., 0., 0., ..., 0., 0., 0.],\n",
       "       [0., 0., 0., ..., 0., 0., 1.],\n",
       "       [0., 0., 0., ..., 0., 0., 0.],\n",
       "       ...,\n",
       "       [0., 0., 0., ..., 0., 1., 0.],\n",
       "       [0., 0., 0., ..., 0., 0., 0.],\n",
       "       [0., 0., 0., ..., 0., 0., 0.]])"
      ]
     },
     "execution_count": 48,
     "metadata": {},
     "output_type": "execute_result"
    }
   ],
   "source": [
    "y_test"
   ]
  },
  {
   "cell_type": "code",
   "execution_count": 49,
   "metadata": {},
   "outputs": [
    {
     "name": "stdout",
     "output_type": "stream",
     "text": [
      "Epoch 1/50\n",
      "115/115 [==============================] - 0s 1ms/step - loss: 2.2940 - accuracy: 0.1305 - val_loss: 2.1584 - val_accuracy: 0.1840\n",
      "Epoch 2/50\n",
      "115/115 [==============================] - 0s 281us/step - loss: 2.0285 - accuracy: 0.2080 - val_loss: 1.8712 - val_accuracy: 0.2951\n",
      "Epoch 3/50\n",
      "115/115 [==============================] - 0s 289us/step - loss: 1.6708 - accuracy: 0.4517 - val_loss: 1.4539 - val_accuracy: 0.6146\n",
      "Epoch 4/50\n",
      "115/115 [==============================] - 0s 336us/step - loss: 1.2444 - accuracy: 0.6902 - val_loss: 1.0873 - val_accuracy: 0.7257\n",
      "Epoch 5/50\n",
      "115/115 [==============================] - 0s 294us/step - loss: 0.9368 - accuracy: 0.7537 - val_loss: 0.8916 - val_accuracy: 0.7708\n",
      "Epoch 6/50\n",
      "115/115 [==============================] - 0s 305us/step - loss: 0.7715 - accuracy: 0.7763 - val_loss: 0.7453 - val_accuracy: 0.8194\n",
      "Epoch 7/50\n",
      "115/115 [==============================] - 0s 280us/step - loss: 0.6615 - accuracy: 0.8016 - val_loss: 0.6770 - val_accuracy: 0.8125\n",
      "Epoch 8/50\n",
      "115/115 [==============================] - 0s 298us/step - loss: 0.5940 - accuracy: 0.8181 - val_loss: 0.6018 - val_accuracy: 0.8368\n",
      "Epoch 9/50\n",
      "115/115 [==============================] - 0s 274us/step - loss: 0.5356 - accuracy: 0.8233 - val_loss: 0.5758 - val_accuracy: 0.8229\n",
      "Epoch 10/50\n",
      "115/115 [==============================] - 0s 276us/step - loss: 0.4950 - accuracy: 0.8390 - val_loss: 0.5314 - val_accuracy: 0.8403\n",
      "Epoch 11/50\n",
      "115/115 [==============================] - 0s 277us/step - loss: 0.4586 - accuracy: 0.8520 - val_loss: 0.4920 - val_accuracy: 0.8472\n",
      "Epoch 12/50\n",
      "115/115 [==============================] - 0s 288us/step - loss: 0.4279 - accuracy: 0.8651 - val_loss: 0.4731 - val_accuracy: 0.8611\n",
      "Epoch 13/50\n",
      "115/115 [==============================] - 0s 291us/step - loss: 0.4013 - accuracy: 0.8738 - val_loss: 0.4440 - val_accuracy: 0.8576\n",
      "Epoch 14/50\n",
      "115/115 [==============================] - 0s 278us/step - loss: 0.3753 - accuracy: 0.8860 - val_loss: 0.4224 - val_accuracy: 0.8889\n",
      "Epoch 15/50\n",
      "115/115 [==============================] - 0s 321us/step - loss: 0.3546 - accuracy: 0.8877 - val_loss: 0.4005 - val_accuracy: 0.8854\n",
      "Epoch 16/50\n",
      "115/115 [==============================] - 0s 241us/step - loss: 0.3337 - accuracy: 0.9017 - val_loss: 0.3796 - val_accuracy: 0.8854\n",
      "Epoch 17/50\n",
      "115/115 [==============================] - 0s 289us/step - loss: 0.3178 - accuracy: 0.9130 - val_loss: 0.3595 - val_accuracy: 0.8889\n",
      "Epoch 18/50\n",
      "115/115 [==============================] - 0s 306us/step - loss: 0.2975 - accuracy: 0.9121 - val_loss: 0.3457 - val_accuracy: 0.8924\n",
      "Epoch 19/50\n",
      "115/115 [==============================] - 0s 376us/step - loss: 0.2837 - accuracy: 0.9164 - val_loss: 0.3428 - val_accuracy: 0.8924\n",
      "Epoch 20/50\n",
      "115/115 [==============================] - 0s 271us/step - loss: 0.2691 - accuracy: 0.9243 - val_loss: 0.3310 - val_accuracy: 0.8924\n",
      "Epoch 21/50\n",
      "115/115 [==============================] - 0s 267us/step - loss: 0.2555 - accuracy: 0.9295 - val_loss: 0.3155 - val_accuracy: 0.9062\n",
      "Epoch 22/50\n",
      "115/115 [==============================] - 0s 262us/step - loss: 0.2430 - accuracy: 0.9356 - val_loss: 0.2937 - val_accuracy: 0.8958\n",
      "Epoch 23/50\n",
      "115/115 [==============================] - 0s 257us/step - loss: 0.2311 - accuracy: 0.9391 - val_loss: 0.2875 - val_accuracy: 0.9132\n",
      "Epoch 24/50\n",
      "115/115 [==============================] - 0s 264us/step - loss: 0.2167 - accuracy: 0.9434 - val_loss: 0.2806 - val_accuracy: 0.9167\n",
      "Epoch 25/50\n",
      "115/115 [==============================] - 0s 254us/step - loss: 0.2069 - accuracy: 0.9408 - val_loss: 0.2684 - val_accuracy: 0.9132\n",
      "Epoch 26/50\n",
      "115/115 [==============================] - 0s 281us/step - loss: 0.2000 - accuracy: 0.9478 - val_loss: 0.2681 - val_accuracy: 0.9167\n",
      "Epoch 27/50\n",
      "115/115 [==============================] - 0s 291us/step - loss: 0.1925 - accuracy: 0.9495 - val_loss: 0.2547 - val_accuracy: 0.9167\n",
      "Epoch 28/50\n",
      "115/115 [==============================] - 0s 281us/step - loss: 0.1827 - accuracy: 0.9530 - val_loss: 0.2533 - val_accuracy: 0.9201\n",
      "Epoch 29/50\n",
      "115/115 [==============================] - 0s 295us/step - loss: 0.1753 - accuracy: 0.9565 - val_loss: 0.2451 - val_accuracy: 0.9201\n",
      "Epoch 30/50\n",
      "115/115 [==============================] - 0s 253us/step - loss: 0.1713 - accuracy: 0.9574 - val_loss: 0.2453 - val_accuracy: 0.9132\n",
      "Epoch 31/50\n",
      "115/115 [==============================] - 0s 307us/step - loss: 0.1639 - accuracy: 0.9521 - val_loss: 0.2361 - val_accuracy: 0.9306\n",
      "Epoch 32/50\n",
      "115/115 [==============================] - 0s 273us/step - loss: 0.1610 - accuracy: 0.9582 - val_loss: 0.2285 - val_accuracy: 0.9306\n",
      "Epoch 33/50\n",
      "115/115 [==============================] - 0s 299us/step - loss: 0.1536 - accuracy: 0.9634 - val_loss: 0.2218 - val_accuracy: 0.9201\n",
      "Epoch 34/50\n",
      "115/115 [==============================] - 0s 283us/step - loss: 0.1482 - accuracy: 0.9634 - val_loss: 0.2222 - val_accuracy: 0.9167\n",
      "Epoch 35/50\n",
      "115/115 [==============================] - 0s 275us/step - loss: 0.1467 - accuracy: 0.9600 - val_loss: 0.2138 - val_accuracy: 0.9340\n",
      "Epoch 36/50\n",
      "115/115 [==============================] - 0s 314us/step - loss: 0.1400 - accuracy: 0.9678 - val_loss: 0.2264 - val_accuracy: 0.9167\n",
      "Epoch 37/50\n",
      "115/115 [==============================] - 0s 263us/step - loss: 0.1380 - accuracy: 0.9626 - val_loss: 0.2173 - val_accuracy: 0.9306\n",
      "Epoch 38/50\n",
      "115/115 [==============================] - 0s 283us/step - loss: 0.1336 - accuracy: 0.9661 - val_loss: 0.2084 - val_accuracy: 0.9167\n",
      "Epoch 39/50\n",
      "115/115 [==============================] - 0s 303us/step - loss: 0.1281 - accuracy: 0.9643 - val_loss: 0.2042 - val_accuracy: 0.9236\n",
      "Epoch 40/50\n",
      "115/115 [==============================] - 0s 263us/step - loss: 0.1265 - accuracy: 0.9687 - val_loss: 0.2020 - val_accuracy: 0.9340\n",
      "Epoch 41/50\n",
      "115/115 [==============================] - 0s 256us/step - loss: 0.1252 - accuracy: 0.9687 - val_loss: 0.2048 - val_accuracy: 0.9201\n",
      "Epoch 42/50\n",
      "115/115 [==============================] - 0s 264us/step - loss: 0.1183 - accuracy: 0.9704 - val_loss: 0.2028 - val_accuracy: 0.9340\n",
      "Epoch 43/50\n",
      "115/115 [==============================] - 0s 279us/step - loss: 0.1156 - accuracy: 0.9730 - val_loss: 0.1998 - val_accuracy: 0.9132\n",
      "Epoch 44/50\n",
      "115/115 [==============================] - 0s 252us/step - loss: 0.1128 - accuracy: 0.9721 - val_loss: 0.1990 - val_accuracy: 0.9271\n",
      "Epoch 45/50\n",
      "115/115 [==============================] - 0s 298us/step - loss: 0.1115 - accuracy: 0.9721 - val_loss: 0.2041 - val_accuracy: 0.9167\n",
      "Epoch 46/50\n",
      "115/115 [==============================] - 0s 262us/step - loss: 0.1092 - accuracy: 0.9739 - val_loss: 0.2001 - val_accuracy: 0.9236\n",
      "Epoch 47/50\n",
      "115/115 [==============================] - 0s 289us/step - loss: 0.1065 - accuracy: 0.9739 - val_loss: 0.2120 - val_accuracy: 0.9271\n",
      "Epoch 48/50\n",
      "115/115 [==============================] - 0s 322us/step - loss: 0.1037 - accuracy: 0.9782 - val_loss: 0.1926 - val_accuracy: 0.9201\n",
      "Epoch 49/50\n",
      "115/115 [==============================] - 0s 252us/step - loss: 0.1018 - accuracy: 0.9765 - val_loss: 0.1980 - val_accuracy: 0.9306\n",
      "Epoch 50/50\n",
      "115/115 [==============================] - 0s 258us/step - loss: 0.0994 - accuracy: 0.9721 - val_loss: 0.1943 - val_accuracy: 0.9306\n"
     ]
    }
   ],
   "source": [
    "# Model from above, but now with ten output neurons:\n",
    "\n",
    "model = Sequential()\n",
    "model.add(Dense(12, activation='relu', input_dim=64))\n",
    "model.add(Dense(8, activation='relu'))\n",
    "model.add(Dense(10, activation='softmax'))\n",
    "\n",
    "model.compile(optimizer='adam',\n",
    "                loss='categorical_crossentropy',\n",
    "                metrics=['accuracy'])\n",
    "\n",
    "results = model.fit(X_pure_train, y_pure_train,\n",
    "                    epochs=50, batch_size=10,\n",
    "                    validation_data=(X_val, y_val))"
   ]
  },
  {
   "cell_type": "markdown",
   "metadata": {},
   "source": [
    "$$\\large \\text{Softmax}(x_{i}) = \\frac{\\exp(x_i)}{\\sum_j \\exp(x_j)}$$\n",
    "\n",
    "The sofmax function outputs a number between 0 and 1 for each of our classes.  All of the probabilities of the classes sum up to 1.\n",
    "\n",
    "The number of nodes in our output layer equals the number of categories in our dataset.\n",
    "\n",
    "We also need a new loss function: **categorical crossentropy**, which calculates a separate loss for each label and then sums the results."
   ]
  },
  {
   "cell_type": "code",
   "execution_count": 50,
   "metadata": {},
   "outputs": [],
   "source": [
    "history = results.history\n",
    "training_loss = history['loss']\n",
    "val_loss = history['val_loss']\n",
    "training_accuracy = history['accuracy']\n",
    "val_accuracy = history['val_accuracy']"
   ]
  },
  {
   "cell_type": "code",
   "execution_count": 51,
   "metadata": {},
   "outputs": [
    {
     "data": {
      "image/png": "[encoded data removed]",
      "text/plain": [
       "<Figure size 1080x360 with 2 Axes>"
      ]
     },
     "metadata": {
      "needs_background": "light"
     },
     "output_type": "display_data"
    }
   ],
   "source": [
    "fig, (ax1,ax2) = plt.subplots(1,2,figsize=(15,5))\n",
    "\n",
    "\n",
    "sns.lineplot(x=list(range(len(training_loss))),\n",
    "            y=training_loss, color='r', label='training', ax=ax1)\n",
    "sns.lineplot(x=list(range(len(val_loss))),\n",
    "            y=val_loss, color='b', label='validation', ax=ax1)\n",
    "sns.lineplot(x=list(range(len(training_loss))),\n",
    "            y=training_accuracy, color='r', label='training',ax=ax2)\n",
    "sns.lineplot(x=list(range(len(val_loss))),\n",
    "            y=val_accuracy, color='b', label='validation',ax=ax2)\n",
    "ax1.legend();"
   ]
  },
  {
   "cell_type": "code",
   "execution_count": 52,
   "metadata": {},
   "outputs": [],
   "source": [
    "y_hat_test = np.argmax(model.predict(X_test), axis=-1)"
   ]
  },
  {
   "cell_type": "code",
   "execution_count": 53,
   "metadata": {},
   "outputs": [
    {
     "data": {
      "text/plain": [
       "array([[30,  0,  0,  0,  0,  1,  2,  0,  0,  0],\n",
       "       [ 1, 25,  2,  0,  0,  0,  0,  0,  0,  0],\n",
       "       [ 0,  1, 30,  1,  0,  0,  0,  0,  1,  0],\n",
       "       [ 0,  0,  1, 32,  0,  1,  0,  0,  0,  0],\n",
       "       [ 0,  1,  0,  0, 45,  0,  0,  0,  0,  0],\n",
       "       [ 0,  0,  0,  0,  0, 45,  2,  0,  0,  0],\n",
       "       [ 1,  0,  0,  0,  0,  0, 34,  0,  0,  0],\n",
       "       [ 0,  0,  0,  0,  0,  0,  0, 33,  0,  1],\n",
       "       [ 0,  4,  1,  0,  0,  1,  0,  0, 24,  0],\n",
       "       [ 0,  1,  0,  2,  0,  0,  0,  0,  1, 36]])"
      ]
     },
     "execution_count": 53,
     "metadata": {},
     "output_type": "execute_result"
    }
   ],
   "source": [
    "y_test_restore = ohe.inverse_transform(y_test)\n",
    "confusion_matrix(y_test_restore, y_hat_test)"
   ]
  },
  {
   "cell_type": "markdown",
   "metadata": {},
   "source": [
    "Wow, look at that performance!  \n",
    "\n",
    "That is great, but remember, we were dealing with simple black and white images.  With color, our basic neural net will have less success.\n",
    "\n",
    "We will explore more advanced tools in the coming days.\n"
   ]
  }
 ],
 "metadata": {
  "celltoolbar": "Raw Cell Format",
  "colab": {
   "collapsed_sections": [],
   "name": "intro-to-keras.ipynb",
   "provenance": []
  },
  "kernelspec": {
   "display_name": "learn-env",
   "language": "python",
   "name": "python3"
  },
  "language_info": {
   "codemirror_mode": {
    "name": "ipython",
    "version": 3
   },
   "file_extension": ".py",
   "mimetype": "text/x-python",
   "name": "python",
   "nbconvert_exporter": "python",
   "pygments_lexer": "ipython3",
   "version": "3.8.5"
  }
 },
 "nbformat": 4,
 "nbformat_minor": 4
}
