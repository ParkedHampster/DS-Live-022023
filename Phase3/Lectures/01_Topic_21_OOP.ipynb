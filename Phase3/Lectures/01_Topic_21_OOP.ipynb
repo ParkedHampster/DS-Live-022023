{
 "cells": [
  {
   "cell_type": "markdown",
   "metadata": {
    "toc": true
   },
   "source": [
    "<h1>Table of Contents<span class=\"tocSkip\"></span></h1>\n",
    "<div class=\"toc\"><ul class=\"toc-item\"><li><span><a href=\"#Objectives\" data-toc-modified-id=\"Objectives-1\"><span class=\"toc-item-num\">1&nbsp;&nbsp;</span>Objectives</a></span></li><li><span><a href=\"#Why-Object-Oriented-Programming?\" data-toc-modified-id=\"Why-Object-Oriented-Programming?-2\"><span class=\"toc-item-num\">2&nbsp;&nbsp;</span>Why Object-Oriented Programming?</a></span><ul class=\"toc-item\"><li><span><a href=\"#Everyone-Is-Doing-It!\" data-toc-modified-id=\"Everyone-Is-Doing-It!-2.1\"><span class=\"toc-item-num\">2.1&nbsp;&nbsp;</span>Everyone Is Doing It!</a></span></li><li><span><a href=\"#Method-to-Organize-Code\" data-toc-modified-id=\"Method-to-Organize-Code-2.2\"><span class=\"toc-item-num\">2.2&nbsp;&nbsp;</span>Method to Organize Code</a></span></li><li><span><a href=\"#Flexible-Usage\" data-toc-modified-id=\"Flexible-Usage-2.3\"><span class=\"toc-item-num\">2.3&nbsp;&nbsp;</span>Flexible Usage</a></span></li></ul></li><li><span><a href=\"#What-Are-Classes-and-Objects?\" data-toc-modified-id=\"What-Are-Classes-and-Objects?-3\"><span class=\"toc-item-num\">3&nbsp;&nbsp;</span>What Are Classes and Objects?</a></span><ul class=\"toc-item\"><li><span><a href=\"#Everything-in-Python-Is-an-Object\" data-toc-modified-id=\"Everything-in-Python-Is-an-Object-3.1\"><span class=\"toc-item-num\">3.1&nbsp;&nbsp;</span>Everything in Python Is an Object</a></span><ul class=\"toc-item\"><li><span><a href=\"#Side-Note-about-Variables\" data-toc-modified-id=\"Side-Note-about-Variables-3.1.1\"><span class=\"toc-item-num\">3.1.1&nbsp;&nbsp;</span>Side Note about Variables</a></span></li></ul></li><li><span><a href=\"#Classes-and-Objects-in-Python\" data-toc-modified-id=\"Classes-and-Objects-in-Python-3.2\"><span class=\"toc-item-num\">3.2&nbsp;&nbsp;</span>Classes and Objects in Python</a></span></li></ul></li><li><span><a href=\"#Object-Properties\" data-toc-modified-id=\"Object-Properties-4\"><span class=\"toc-item-num\">4&nbsp;&nbsp;</span>Object Properties</a></span><ul class=\"toc-item\"><li><span><a href=\"#Examples-of-Properties-We've-Seen\" data-toc-modified-id=\"Examples-of-Properties-We've-Seen-4.1\"><span class=\"toc-item-num\">4.1&nbsp;&nbsp;</span>Examples of Properties We've Seen</a></span></li><li><span><a href=\"#Building-Up-Our-Class-with-Properties\" data-toc-modified-id=\"Building-Up-Our-Class-with-Properties-4.2\"><span class=\"toc-item-num\">4.2&nbsp;&nbsp;</span>Building Up Our Class with Properties</a></span><ul class=\"toc-item\"><li><span><a href=\"#🧠-Knowledge-Check\" data-toc-modified-id=\"🧠-Knowledge-Check-4.2.1\"><span class=\"toc-item-num\">4.2.1&nbsp;&nbsp;</span>🧠 Knowledge Check</a></span></li><li><span><a href=\"#Robot-Override!!!\" data-toc-modified-id=\"Robot-Override!!!-4.2.2\"><span class=\"toc-item-num\">4.2.2&nbsp;&nbsp;</span>Robot Override!!!</a></span></li></ul></li></ul></li><li><span><a href=\"#Object-Methods\" data-toc-modified-id=\"Object-Methods-5\"><span class=\"toc-item-num\">5&nbsp;&nbsp;</span>Object Methods</a></span><ul class=\"toc-item\"><li><span><a href=\"#Examples-of-Methods-We've-Seen\" data-toc-modified-id=\"Examples-of-Methods-We've-Seen-5.1\"><span class=\"toc-item-num\">5.1&nbsp;&nbsp;</span>Examples of Methods We've Seen</a></span></li><li><span><a href=\"#Building-Up-Our-Class-with-Methods\" data-toc-modified-id=\"Building-Up-Our-Class-with-Methods-5.2\"><span class=\"toc-item-num\">5.2&nbsp;&nbsp;</span>Building Up Our Class with Methods</a></span></li></ul></li><li><span><a href=\"#Magic-Methods\" data-toc-modified-id=\"Magic-Methods-6\"><span class=\"toc-item-num\">6&nbsp;&nbsp;</span>Magic Methods</a></span><ul class=\"toc-item\"><li><span><a href=\"#__init__()\" data-toc-modified-id=\"__init__()-6.1\"><span class=\"toc-item-num\">6.1&nbsp;&nbsp;</span><code>__init__()</code></a></span></li><li><span><a href=\"#__str__()\" data-toc-modified-id=\"__str__()-6.2\"><span class=\"toc-item-num\">6.2&nbsp;&nbsp;</span><code>__str__()</code></a></span></li></ul></li><li><span><a href=\"#Level-Up:-*args-and-**kwargs\" data-toc-modified-id=\"Level-Up:-*args-and-**kwargs-7\"><span class=\"toc-item-num\">7&nbsp;&nbsp;</span>Level Up: <code>*args</code> and <code>**kwargs</code></a></span><ul class=\"toc-item\"><li><span><a href=\"#*-Operator:-*args\" data-toc-modified-id=\"*-Operator:-*args-7.1\"><span class=\"toc-item-num\">7.1&nbsp;&nbsp;</span><code>*</code> Operator: <code>*args</code></a></span></li><li><span><a href=\"#**-Operator:-*kwargs\" data-toc-modified-id=\"**-Operator:-*kwargs-7.2\"><span class=\"toc-item-num\">7.2&nbsp;&nbsp;</span><code>**</code> Operator: <code>*kwargs</code></a></span></li></ul></li></ul></div>"
   ]
  },
  {
   "cell_type": "markdown",
   "metadata": {},
   "source": [
    "![fvo](https://cdn.educba.com/academy/wp-content/uploads/2018/07/Functional-Programming-vs-OOP-1.png)"
   ]
  },
  {
   "cell_type": "code",
   "execution_count": 1,
   "metadata": {},
   "outputs": [],
   "source": [
    "import pandas as pd\n",
    "import inspect"
   ]
  },
  {
   "cell_type": "markdown",
   "metadata": {
    "heading_collapsed": true
   },
   "source": [
    "# Objectives"
   ]
  },
  {
   "cell_type": "markdown",
   "metadata": {
    "hidden": true
   },
   "source": [
    "- Understand the concept of **classes** and **objects**\n",
    "- Explain the idea that _\"everything in Python is an object\"_\n",
    "- Use the concept of an object's **property**\n",
    "- Use the concept of an object's **method**"
   ]
  },
  {
   "cell_type": "markdown",
   "metadata": {
    "heading_collapsed": true
   },
   "source": [
    "# Why Object-Oriented Programming?"
   ]
  },
  {
   "cell_type": "markdown",
   "metadata": {
    "hidden": true
   },
   "source": [
    "> **Object-oriented programming** or **OOP** is a common style of programming that can help with abstraction and organizing code."
   ]
  },
  {
   "cell_type": "markdown",
   "metadata": {
    "heading_collapsed": true,
    "hidden": true
   },
   "source": [
    "## Everyone Is Doing It!"
   ]
  },
  {
   "cell_type": "markdown",
   "metadata": {
    "hidden": true
   },
   "source": [
    "> A lot of code is written with OOP principles in mind."
   ]
  },
  {
   "cell_type": "markdown",
   "metadata": {
    "hidden": true
   },
   "source": [
    "<img src='https://codingnomads.co/wp-content/uploads/2021/12/Most-in-demand-programming-languages-of-2022.jpg' width=70%/>"
   ]
  },
  {
   "cell_type": "markdown",
   "metadata": {
    "hidden": true
   },
   "source": [
    "> Of these, Python Java, JavaScript, C++, C#, and Ruby are mostly or entirely OOP, while PHP and Perl have been adding OOP style functions in their latest versions. \n",
    "> Knowing OOP will help you become comfortable reading other people's code"
   ]
  },
  {
   "cell_type": "markdown",
   "metadata": {
    "heading_collapsed": true,
    "hidden": true
   },
   "source": [
    "## Method to Organize Code"
   ]
  },
  {
   "cell_type": "markdown",
   "metadata": {
    "hidden": true
   },
   "source": [
    "> We all know what ***things*** are"
   ]
  },
  {
   "cell_type": "markdown",
   "metadata": {
    "hidden": true
   },
   "source": [
    "![](images/thing1_thing2.jpg)"
   ]
  },
  {
   "cell_type": "markdown",
   "metadata": {
    "hidden": true
   },
   "source": [
    "> Easier to break down into physical items, activities, concepts [**nouns**]"
   ]
  },
  {
   "cell_type": "markdown",
   "metadata": {
    "heading_collapsed": true,
    "hidden": true
   },
   "source": [
    "## Flexible Usage"
   ]
  },
  {
   "cell_type": "markdown",
   "metadata": {
    "hidden": true
   },
   "source": [
    "> We can take a **class** (think *blueprint*) and modify it to our needs, mad scientist style!"
   ]
  },
  {
   "cell_type": "markdown",
   "metadata": {
    "hidden": true
   },
   "source": [
    "<img src='http://www.expertphp.in/images/articles/ArtImgC67UTd_classes_and_objects.jpg' width=75%/>"
   ]
  },
  {
   "cell_type": "markdown",
   "metadata": {
    "hidden": true
   },
   "source": [
    "> We don't have to reinvent the wheel!"
   ]
  },
  {
   "cell_type": "markdown",
   "metadata": {
    "heading_collapsed": true
   },
   "source": [
    "# What Are Classes and Objects?"
   ]
  },
  {
   "cell_type": "markdown",
   "metadata": {
    "hidden": true
   },
   "source": [
    "> A **class** is like a _blueprint_ or _mold_ \\\n",
    "> An **object** is made from the class (called *instantiation*), similar to making an item from the blueprint"
   ]
  },
  {
   "cell_type": "markdown",
   "metadata": {
    "hidden": true
   },
   "source": [
    "![blueprint](images/blueprint.jpeg)"
   ]
  },
  {
   "cell_type": "markdown",
   "metadata": {
    "hidden": true
   },
   "source": [
    "The class tells us how to make objects. We can make many objects based on the class.\n",
    "\n",
    "But our object (or **instance**) is still an individual and can be modified after being created (or **instantiated**)."
   ]
  },
  {
   "cell_type": "markdown",
   "metadata": {
    "heading_collapsed": true,
    "hidden": true
   },
   "source": [
    "## Everything in Python Is an Object"
   ]
  },
  {
   "cell_type": "markdown",
   "metadata": {
    "hidden": true
   },
   "source": [
    "> Turns out we've been using objects all along! \\\n",
    "> Python is an object-oriented programming language and is centered around having _everything_ as an object"
   ]
  },
  {
   "cell_type": "code",
   "execution_count": 2,
   "metadata": {
    "hidden": true
   },
   "outputs": [],
   "source": [
    "# Two different Python \"objects\"\n",
    "my_integer = 3\n",
    "my_string = \"Hi\""
   ]
  },
  {
   "cell_type": "markdown",
   "metadata": {
    "hidden": true
   },
   "source": [
    "We can use the same operator to see the type of each object"
   ]
  },
  {
   "cell_type": "code",
   "execution_count": 3,
   "metadata": {
    "hidden": true
   },
   "outputs": [
    {
     "data": {
      "text/plain": [
       "int"
      ]
     },
     "execution_count": 3,
     "metadata": {},
     "output_type": "execute_result"
    }
   ],
   "source": [
    "type(my_integer)"
   ]
  },
  {
   "cell_type": "code",
   "execution_count": 4,
   "metadata": {
    "hidden": true
   },
   "outputs": [
    {
     "data": {
      "text/plain": [
       "str"
      ]
     },
     "execution_count": 4,
     "metadata": {},
     "output_type": "execute_result"
    }
   ],
   "source": [
    "type(my_string)"
   ]
  },
  {
   "cell_type": "markdown",
   "metadata": {
    "hidden": true
   },
   "source": [
    "We can even define our own functions that work the same for each object type:"
   ]
  },
  {
   "cell_type": "code",
   "execution_count": 5,
   "metadata": {
    "hidden": true
   },
   "outputs": [],
   "source": [
    "def double_me(x):\n",
    "    return x + x"
   ]
  },
  {
   "cell_type": "code",
   "execution_count": 6,
   "metadata": {
    "hidden": true
   },
   "outputs": [
    {
     "data": {
      "text/plain": [
       "6"
      ]
     },
     "execution_count": 6,
     "metadata": {},
     "output_type": "execute_result"
    }
   ],
   "source": [
    "double_me(my_integer)"
   ]
  },
  {
   "cell_type": "code",
   "execution_count": 7,
   "metadata": {
    "hidden": true
   },
   "outputs": [
    {
     "data": {
      "text/plain": [
       "'HiHi'"
      ]
     },
     "execution_count": 7,
     "metadata": {},
     "output_type": "execute_result"
    }
   ],
   "source": [
    "double_me(my_string)"
   ]
  },
  {
   "cell_type": "markdown",
   "metadata": {
    "hidden": true
   },
   "source": [
    "This is because there's some internal magic happening here. Whenever we do something like `x + x`, there's actually a special function tied to the object that is doing the work:"
   ]
  },
  {
   "cell_type": "code",
   "execution_count": 8,
   "metadata": {
    "hidden": true
   },
   "outputs": [
    {
     "data": {
      "text/plain": [
       "13"
      ]
     },
     "execution_count": 8,
     "metadata": {},
     "output_type": "execute_result"
    }
   ],
   "source": [
    "my_integer.__add__(10)"
   ]
  },
  {
   "cell_type": "code",
   "execution_count": 9,
   "metadata": {
    "hidden": true
   },
   "outputs": [
    {
     "data": {
      "text/plain": [
       "'Hi?'"
      ]
     },
     "execution_count": 9,
     "metadata": {},
     "output_type": "execute_result"
    }
   ],
   "source": [
    "my_string.__add__('?')"
   ]
  },
  {
   "cell_type": "markdown",
   "metadata": {
    "hidden": true
   },
   "source": [
    "In fact, there are a whole mess of these special functions tied to each object:"
   ]
  },
  {
   "cell_type": "code",
   "execution_count": 10,
   "metadata": {},
   "outputs": [
    {
     "data": {
      "text/plain": [
       "'//////   Hi   //////'"
      ]
     },
     "execution_count": 10,
     "metadata": {},
     "output_type": "execute_result"
    }
   ],
   "source": [
    "my_string.center(8).center(20,\"/\")"
   ]
  },
  {
   "cell_type": "code",
   "execution_count": 11,
   "metadata": {
    "hidden": true,
    "scrolled": true
   },
   "outputs": [
    {
     "data": {
      "text/plain": [
       "[('__add__', <method-wrapper '__add__' of str object at 0x7f27f7ee0970>),\n",
       " ('__class__', str),\n",
       " ('__contains__',\n",
       "  <method-wrapper '__contains__' of str object at 0x7f27f7ee0970>),\n",
       " ('__delattr__',\n",
       "  <method-wrapper '__delattr__' of str object at 0x7f27f7ee0970>),\n",
       " ('__dir__', <function str.__dir__()>),\n",
       " ('__doc__',\n",
       "  \"str(object='') -> str\\nstr(bytes_or_buffer[, encoding[, errors]]) -> str\\n\\nCreate a new string object from the given object. If encoding or\\nerrors is specified, then the object must expose a data buffer\\nthat will be decoded using the given encoding and error handler.\\nOtherwise, returns the result of object.__str__() (if defined)\\nor repr(object).\\nencoding defaults to sys.getdefaultencoding().\\nerrors defaults to 'strict'.\"),\n",
       " ('__eq__', <method-wrapper '__eq__' of str object at 0x7f27f7ee0970>),\n",
       " ('__format__', <function str.__format__(format_spec, /)>),\n",
       " ('__ge__', <method-wrapper '__ge__' of str object at 0x7f27f7ee0970>),\n",
       " ('__getattribute__',\n",
       "  <method-wrapper '__getattribute__' of str object at 0x7f27f7ee0970>),\n",
       " ('__getitem__',\n",
       "  <method-wrapper '__getitem__' of str object at 0x7f27f7ee0970>),\n",
       " ('__getnewargs__', <function str.__getnewargs__>),\n",
       " ('__gt__', <method-wrapper '__gt__' of str object at 0x7f27f7ee0970>),\n",
       " ('__hash__', <method-wrapper '__hash__' of str object at 0x7f27f7ee0970>),\n",
       " ('__init__', <method-wrapper '__init__' of str object at 0x7f27f7ee0970>),\n",
       " ('__init_subclass__', <function str.__init_subclass__>),\n",
       " ('__iter__', <method-wrapper '__iter__' of str object at 0x7f27f7ee0970>),\n",
       " ('__le__', <method-wrapper '__le__' of str object at 0x7f27f7ee0970>),\n",
       " ('__len__', <method-wrapper '__len__' of str object at 0x7f27f7ee0970>),\n",
       " ('__lt__', <method-wrapper '__lt__' of str object at 0x7f27f7ee0970>),\n",
       " ('__mod__', <method-wrapper '__mod__' of str object at 0x7f27f7ee0970>),\n",
       " ('__mul__', <method-wrapper '__mul__' of str object at 0x7f27f7ee0970>),\n",
       " ('__ne__', <method-wrapper '__ne__' of str object at 0x7f27f7ee0970>),\n",
       " ('__new__', <function str.__new__(*args, **kwargs)>),\n",
       " ('__reduce__', <function str.__reduce__()>),\n",
       " ('__reduce_ex__', <function str.__reduce_ex__(protocol, /)>),\n",
       " ('__repr__', <method-wrapper '__repr__' of str object at 0x7f27f7ee0970>),\n",
       " ('__rmod__', <method-wrapper '__rmod__' of str object at 0x7f27f7ee0970>),\n",
       " ('__rmul__', <method-wrapper '__rmul__' of str object at 0x7f27f7ee0970>),\n",
       " ('__setattr__',\n",
       "  <method-wrapper '__setattr__' of str object at 0x7f27f7ee0970>),\n",
       " ('__sizeof__', <function str.__sizeof__()>),\n",
       " ('__str__', <method-wrapper '__str__' of str object at 0x7f27f7ee0970>),\n",
       " ('__subclasshook__', <function str.__subclasshook__>),\n",
       " ('capitalize', <function str.capitalize()>),\n",
       " ('casefold', <function str.casefold()>),\n",
       " ('center', <function str.center(width, fillchar=' ', /)>),\n",
       " ('count', <function str.count>),\n",
       " ('encode', <function str.encode(encoding='utf-8', errors='strict')>),\n",
       " ('endswith', <function str.endswith>),\n",
       " ('expandtabs', <function str.expandtabs(tabsize=8)>),\n",
       " ('find', <function str.find>),\n",
       " ('format', <function str.format>),\n",
       " ('format_map', <function str.format_map>),\n",
       " ('index', <function str.index>),\n",
       " ('isalnum', <function str.isalnum()>),\n",
       " ('isalpha', <function str.isalpha()>),\n",
       " ('isascii', <function str.isascii()>),\n",
       " ('isdecimal', <function str.isdecimal()>),\n",
       " ('isdigit', <function str.isdigit()>),\n",
       " ('isidentifier', <function str.isidentifier()>),\n",
       " ('islower', <function str.islower()>),\n",
       " ('isnumeric', <function str.isnumeric()>),\n",
       " ('isprintable', <function str.isprintable()>),\n",
       " ('isspace', <function str.isspace()>),\n",
       " ('istitle', <function str.istitle()>),\n",
       " ('isupper', <function str.isupper()>),\n",
       " ('join', <function str.join(iterable, /)>),\n",
       " ('ljust', <function str.ljust(width, fillchar=' ', /)>),\n",
       " ('lower', <function str.lower()>),\n",
       " ('lstrip', <function str.lstrip(chars=None, /)>),\n",
       " ('maketrans', <function str.maketrans>),\n",
       " ('partition', <function str.partition(sep, /)>),\n",
       " ('replace', <function str.replace(old, new, count=-1, /)>),\n",
       " ('rfind', <function str.rfind>),\n",
       " ('rindex', <function str.rindex>),\n",
       " ('rjust', <function str.rjust(width, fillchar=' ', /)>),\n",
       " ('rpartition', <function str.rpartition(sep, /)>),\n",
       " ('rsplit', <function str.rsplit(sep=None, maxsplit=-1)>),\n",
       " ('rstrip', <function str.rstrip(chars=None, /)>),\n",
       " ('split', <function str.split(sep=None, maxsplit=-1)>),\n",
       " ('splitlines', <function str.splitlines(keepends=False)>),\n",
       " ('startswith', <function str.startswith>),\n",
       " ('strip', <function str.strip(chars=None, /)>),\n",
       " ('swapcase', <function str.swapcase()>),\n",
       " ('title', <function str.title()>),\n",
       " ('translate', <function str.translate(table, /)>),\n",
       " ('upper', <function str.upper()>),\n",
       " ('zfill', <function str.zfill(width, /)>)]"
      ]
     },
     "execution_count": 11,
     "metadata": {},
     "output_type": "execute_result"
    }
   ],
   "source": [
    "inspect.getmembers(my_string)"
   ]
  },
  {
   "cell_type": "markdown",
   "metadata": {
    "hidden": true
   },
   "source": [
    "These special functions tied to the object are called **methods**. We'll explore more of that soon."
   ]
  },
  {
   "cell_type": "markdown",
   "metadata": {
    "heading_collapsed": true,
    "hidden": true
   },
   "source": [
    "## Classes and Objects in Python"
   ]
  },
  {
   "cell_type": "markdown",
   "metadata": {
    "hidden": true
   },
   "source": [
    "> It turns out we can create own classes and instantiate their related objects in Python."
   ]
  },
  {
   "cell_type": "markdown",
   "metadata": {
    "hidden": true
   },
   "source": [
    "We can define **new** classes of objects altogether by using the keyword `class`:"
   ]
  },
  {
   "cell_type": "code",
   "execution_count": 12,
   "metadata": {
    "hidden": true
   },
   "outputs": [],
   "source": [
    "class Robot:\n",
    "  # Essentially a blank template since we never defined any attributes\n",
    "  pass"
   ]
  },
  {
   "cell_type": "code",
   "execution_count": 13,
   "metadata": {
    "hidden": true
   },
   "outputs": [
    {
     "data": {
      "text/plain": [
       "__main__.Robot"
      ]
     },
     "execution_count": 13,
     "metadata": {},
     "output_type": "execute_result"
    }
   ],
   "source": [
    "# Instantiate the object\n",
    "my_robot = Robot()\n",
    "type(my_robot)"
   ]
  },
  {
   "cell_type": "code",
   "execution_count": 14,
   "metadata": {
    "hidden": true
   },
   "outputs": [
    {
     "data": {
      "text/plain": [
       "<__main__.Robot at 0x7f284c3bb8e0>"
      ]
     },
     "execution_count": 14,
     "metadata": {},
     "output_type": "execute_result"
    }
   ],
   "source": [
    "my_robot"
   ]
  },
  {
   "cell_type": "code",
   "execution_count": 15,
   "metadata": {
    "hidden": true
   },
   "outputs": [
    {
     "data": {
      "text/plain": [
       "[<__main__.Robot at 0x7f27f7e883d0>,\n",
       " <__main__.Robot at 0x7f27f7e88130>,\n",
       " <__main__.Robot at 0x7f27f7e88f40>,\n",
       " <__main__.Robot at 0x7f284c354af0>,\n",
       " <__main__.Robot at 0x7f284c354a90>]"
      ]
     },
     "execution_count": 15,
     "metadata": {},
     "output_type": "execute_result"
    }
   ],
   "source": [
    "# My little army of many robots\n",
    "robot_army = [Robot() for _ in range(5)]\n",
    "robot_army"
   ]
  },
  {
   "cell_type": "code",
   "execution_count": 16,
   "metadata": {
    "hidden": true
   },
   "outputs": [
    {
     "data": {
      "text/plain": [
       "False"
      ]
     },
     "execution_count": 16,
     "metadata": {},
     "output_type": "execute_result"
    }
   ],
   "source": [
    "# Remember each robot is an individual, a special snowflake ❄️\n",
    "robot_army[0] is robot_army[1]"
   ]
  },
  {
   "cell_type": "markdown",
   "metadata": {
    "hidden": true
   },
   "source": [
    "In the next sections, we'll go over building up and customizing our class with something called **properties** and **methods**."
   ]
  },
  {
   "cell_type": "markdown",
   "metadata": {
    "heading_collapsed": true
   },
   "source": [
    "# Object Properties"
   ]
  },
  {
   "cell_type": "markdown",
   "metadata": {
    "hidden": true
   },
   "source": [
    "> Objects can have **properties** that contain information about the object. Also called **attributes** (typically used interchangeably with properties)"
   ]
  },
  {
   "cell_type": "markdown",
   "metadata": {
    "hidden": true
   },
   "source": [
    "This encapsulates something that belongs to an object after it's instantiated from a class."
   ]
  },
  {
   "cell_type": "markdown",
   "metadata": {
    "heading_collapsed": true,
    "hidden": true
   },
   "source": [
    "## Examples of Properties We've Seen"
   ]
  },
  {
   "cell_type": "markdown",
   "metadata": {
    "hidden": true
   },
   "source": [
    "Take our familiar friend, the [`Pandas` DataFrame](https://pandas.pydata.org/pandas-docs/stable/reference/api/pandas.DataFrame.html) for example."
   ]
  },
  {
   "cell_type": "code",
   "execution_count": 17,
   "metadata": {
    "hidden": true
   },
   "outputs": [],
   "source": [
    "# Dataframes are another type of object.\n",
    "\n",
    "df = pd.DataFrame({'price': [50, 40, 30],'sqft': [1000, 950, 500]})"
   ]
  },
  {
   "cell_type": "code",
   "execution_count": 18,
   "metadata": {
    "hidden": true
   },
   "outputs": [
    {
     "data": {
      "text/html": [
       "<div>\n",
       "<style scoped>\n",
       "    .dataframe tbody tr th:only-of-type {\n",
       "        vertical-align: middle;\n",
       "    }\n",
       "\n",
       "    .dataframe tbody tr th {\n",
       "        vertical-align: top;\n",
       "    }\n",
       "\n",
       "    .dataframe thead th {\n",
       "        text-align: right;\n",
       "    }\n",
       "</style>\n",
       "<table border=\"1\" class=\"dataframe\">\n",
       "  <thead>\n",
       "    <tr style=\"text-align: right;\">\n",
       "      <th></th>\n",
       "      <th>price</th>\n",
       "      <th>sqft</th>\n",
       "    </tr>\n",
       "  </thead>\n",
       "  <tbody>\n",
       "    <tr>\n",
       "      <th>0</th>\n",
       "      <td>50</td>\n",
       "      <td>1000</td>\n",
       "    </tr>\n",
       "    <tr>\n",
       "      <th>1</th>\n",
       "      <td>40</td>\n",
       "      <td>950</td>\n",
       "    </tr>\n",
       "    <tr>\n",
       "      <th>2</th>\n",
       "      <td>30</td>\n",
       "      <td>500</td>\n",
       "    </tr>\n",
       "  </tbody>\n",
       "</table>\n",
       "</div>"
      ],
      "text/plain": [
       "   price  sqft\n",
       "0     50  1000\n",
       "1     40   950\n",
       "2     30   500"
      ]
     },
     "execution_count": 18,
     "metadata": {},
     "output_type": "execute_result"
    }
   ],
   "source": [
    "df"
   ]
  },
  {
   "cell_type": "code",
   "execution_count": 19,
   "metadata": {
    "hidden": true
   },
   "outputs": [
    {
     "data": {
      "text/plain": [
       "pandas.core.frame.DataFrame"
      ]
     },
     "execution_count": 19,
     "metadata": {},
     "output_type": "execute_result"
    }
   ],
   "source": [
    "type(df)"
   ]
  },
  {
   "cell_type": "markdown",
   "metadata": {
    "hidden": true
   },
   "source": [
    "Instance attributes are associated with each unique object.\n",
    "They describe characteristics of the object, and are accessed with dot notation like so:"
   ]
  },
  {
   "cell_type": "code",
   "execution_count": 20,
   "metadata": {
    "hidden": true
   },
   "outputs": [
    {
     "data": {
      "text/plain": [
       "(3, 2)"
      ]
     },
     "execution_count": 20,
     "metadata": {},
     "output_type": "execute_result"
    }
   ],
   "source": [
    "df.shape"
   ]
  },
  {
   "cell_type": "markdown",
   "metadata": {
    "hidden": true
   },
   "source": [
    "What are some other DataFrame attributes we know?:"
   ]
  },
  {
   "cell_type": "code",
   "execution_count": 21,
   "metadata": {
    "hidden": true
   },
   "outputs": [
    {
     "data": {
      "text/plain": [
       "RangeIndex(start=0, stop=3, step=1)"
      ]
     },
     "execution_count": 21,
     "metadata": {},
     "output_type": "execute_result"
    }
   ],
   "source": [
    "# Other df attributes\n",
    "df.columns \n",
    "df.index\n",
    "\n"
   ]
  },
  {
   "cell_type": "markdown",
   "metadata": {
    "heading_collapsed": true,
    "hidden": true
   },
   "source": [
    "## Building Up Our Class with Properties"
   ]
  },
  {
   "cell_type": "markdown",
   "metadata": {
    "hidden": true
   },
   "source": [
    "We can define properties after instantiating our object. Think of it as customization."
   ]
  },
  {
   "cell_type": "code",
   "execution_count": 22,
   "metadata": {
    "hidden": true
   },
   "outputs": [],
   "source": [
    "my_robot = Robot()\n",
    "\n",
    "# Let's give it a name and a height!\n",
    "None"
   ]
  },
  {
   "cell_type": "code",
   "execution_count": 25,
   "metadata": {
    "hidden": true
   },
   "outputs": [
    {
     "ename": "AttributeError",
     "evalue": "'Robot' object has no attribute 'name'",
     "output_type": "error",
     "traceback": [
      "\u001b[0;31m---------------------------------------------------------------------------\u001b[0m",
      "\u001b[0;31mAttributeError\u001b[0m                            Traceback (most recent call last)",
      "\u001b[0;32m<ipython-input-25-703309ee56ad>\u001b[0m in \u001b[0;36m<module>\u001b[0;34m\u001b[0m\n\u001b[1;32m      1\u001b[0m \u001b[0;31m# It lives!!!!!\u001b[0m\u001b[0;34m\u001b[0m\u001b[0;34m\u001b[0m\u001b[0;34m\u001b[0m\u001b[0m\n\u001b[0;32m----> 2\u001b[0;31m \u001b[0mprint\u001b[0m\u001b[0;34m(\u001b[0m\u001b[0mmy_robot\u001b[0m\u001b[0;34m.\u001b[0m\u001b[0mname\u001b[0m\u001b[0;34m,\u001b[0m \u001b[0mmy_robot\u001b[0m\u001b[0;34m.\u001b[0m\u001b[0mheight\u001b[0m\u001b[0;34m)\u001b[0m\u001b[0;34m\u001b[0m\u001b[0;34m\u001b[0m\u001b[0m\n\u001b[0m",
      "\u001b[0;31mAttributeError\u001b[0m: 'Robot' object has no attribute 'name'"
     ]
    }
   ],
   "source": [
    "# It lives!!!!!\n",
    "print(my_robot.name, my_robot.height)"
   ]
  },
  {
   "cell_type": "markdown",
   "metadata": {
    "hidden": true
   },
   "source": [
    "But we can't call up properties it doesn't have:"
   ]
  },
  {
   "cell_type": "code",
   "execution_count": 26,
   "metadata": {
    "hidden": true
   },
   "outputs": [
    {
     "name": "stdout",
     "output_type": "stream",
     "text": [
      "'Robot' object has no attribute 'purpose'\n"
     ]
    }
   ],
   "source": [
    "# Uh oh, we didn't give it this property\n",
    "try:\n",
    "    print(my_robot.purpose)\n",
    "except Exception as err:\n",
    "    print(err)"
   ]
  },
  {
   "cell_type": "markdown",
   "metadata": {
    "hidden": true
   },
   "source": [
    "Wouldn't it be nice to have some built-in properties when we instantiated? We can!"
   ]
  },
  {
   "cell_type": "code",
   "execution_count": 27,
   "metadata": {
    "hidden": true
   },
   "outputs": [],
   "source": [
    "class Robot:\n",
    "    '''Robot class''' # docstring is similar to functions; documents our class\n",
    "    purpose = 'To love humans'\n",
    "    name = None"
   ]
  },
  {
   "cell_type": "code",
   "execution_count": 28,
   "metadata": {
    "hidden": true
   },
   "outputs": [],
   "source": [
    "# Give them life!\n",
    "my_robot = Robot()\n",
    "my_robot.name = 'Wall-E 2.0'\n",
    "my_robot.height = 100  # cm\n",
    "\n",
    "your_robot = Robot()\n",
    "your_robot.height = 200 # cm"
   ]
  },
  {
   "cell_type": "code",
   "execution_count": 29,
   "metadata": {
    "hidden": true
   },
   "outputs": [
    {
     "name": "stdout",
     "output_type": "stream",
     "text": [
      "What is your name?\n",
      "Wall-E 2.0\n",
      "\n",
      "What is your purpose?\n",
      "To love humans\n"
     ]
    }
   ],
   "source": [
    "print('What is your name?')\n",
    "print(my_robot.name)\n",
    "print()\n",
    "print('What is your purpose?')\n",
    "print(my_robot.purpose)"
   ]
  },
  {
   "cell_type": "markdown",
   "metadata": {
    "heading_collapsed": true,
    "hidden": true
   },
   "source": [
    "### 🧠 Knowledge Check"
   ]
  },
  {
   "cell_type": "markdown",
   "metadata": {
    "hidden": true
   },
   "source": [
    "What should the code below print?"
   ]
  },
  {
   "cell_type": "code",
   "execution_count": 30,
   "metadata": {
    "hidden": true
   },
   "outputs": [
    {
     "name": "stdout",
     "output_type": "stream",
     "text": [
      "None\n",
      "To love humans\n",
      "200\n"
     ]
    }
   ],
   "source": [
    "print(your_robot.name)\n",
    "print(your_robot.purpose)\n",
    "print(your_robot.height)"
   ]
  },
  {
   "cell_type": "markdown",
   "metadata": {
    "heading_collapsed": true,
    "hidden": true
   },
   "source": [
    "### Robot Override!!!"
   ]
  },
  {
   "cell_type": "code",
   "execution_count": 31,
   "metadata": {
    "hidden": true
   },
   "outputs": [],
   "source": [
    "# Rogue robot!!!\n",
    "evil_robot = Robot()\n",
    "evil_robot.name = 'Bender'\n",
    "evil_robot.purpose = 'TO KILL ALL HUMANS!!!'"
   ]
  },
  {
   "cell_type": "code",
   "execution_count": 32,
   "metadata": {
    "hidden": true
   },
   "outputs": [
    {
     "name": "stdout",
     "output_type": "stream",
     "text": [
      "What is your name and your purpose?\n",
      "\n",
      "My name is Bender and my purpose is TO KILL ALL HUMANS!!!\n"
     ]
    }
   ],
   "source": [
    "print('What is your name and your purpose?\\n')\n",
    "print(f'My name is {evil_robot.name} and my purpose is {evil_robot.purpose}')"
   ]
  },
  {
   "cell_type": "markdown",
   "metadata": {
    "heading_collapsed": true
   },
   "source": [
    "# Object Methods"
   ]
  },
  {
   "cell_type": "markdown",
   "metadata": {
    "hidden": true
   },
   "source": [
    "> We can also write functions that are associated with each class. \\\n",
    "> As said above, a function associated with a class is called a method."
   ]
  },
  {
   "cell_type": "markdown",
   "metadata": {
    "hidden": true
   },
   "source": [
    "A **method** is a function attached to an object:"
   ]
  },
  {
   "cell_type": "markdown",
   "metadata": {
    "heading_collapsed": true,
    "hidden": true
   },
   "source": [
    "## Examples of Methods We've Seen"
   ]
  },
  {
   "cell_type": "code",
   "execution_count": 33,
   "metadata": {
    "hidden": true
   },
   "outputs": [
    {
     "name": "stdout",
     "output_type": "stream",
     "text": [
      "<class 'pandas.core.frame.DataFrame'>\n",
      "RangeIndex: 3 entries, 0 to 2\n",
      "Data columns (total 2 columns):\n",
      " #   Column  Non-Null Count  Dtype\n",
      "---  ------  --------------  -----\n",
      " 0   price   3 non-null      int64\n",
      " 1   sqft    3 non-null      int64\n",
      "dtypes: int64(2)\n",
      "memory usage: 176.0 bytes\n"
     ]
    }
   ],
   "source": [
    "df.info()"
   ]
  },
  {
   "cell_type": "code",
   "execution_count": 34,
   "metadata": {
    "hidden": true
   },
   "outputs": [
    {
     "name": "stdout",
     "output_type": "stream",
     "text": [
      "<class 'pandas.core.frame.DataFrame'>\n",
      "RangeIndex: 3 entries, 0 to 2\n",
      "Data columns (total 2 columns):\n",
      " #   Column  Non-Null Count  Dtype\n",
      "---  ------  --------------  -----\n",
      " 0   price   3 non-null      int64\n",
      " 1   sqft    3 non-null      int64\n",
      "dtypes: int64(2)\n",
      "memory usage: 176.0 bytes\n"
     ]
    },
    {
     "data": {
      "text/plain": [
       "NoneType"
      ]
     },
     "execution_count": 34,
     "metadata": {},
     "output_type": "execute_result"
    }
   ],
   "source": [
    "type(df.info())"
   ]
  },
  {
   "cell_type": "code",
   "execution_count": 35,
   "metadata": {
    "hidden": true
   },
   "outputs": [
    {
     "data": {
      "text/html": [
       "<div>\n",
       "<style scoped>\n",
       "    .dataframe tbody tr th:only-of-type {\n",
       "        vertical-align: middle;\n",
       "    }\n",
       "\n",
       "    .dataframe tbody tr th {\n",
       "        vertical-align: top;\n",
       "    }\n",
       "\n",
       "    .dataframe thead th {\n",
       "        text-align: right;\n",
       "    }\n",
       "</style>\n",
       "<table border=\"1\" class=\"dataframe\">\n",
       "  <thead>\n",
       "    <tr style=\"text-align: right;\">\n",
       "      <th></th>\n",
       "      <th>price</th>\n",
       "      <th>sqft</th>\n",
       "    </tr>\n",
       "  </thead>\n",
       "  <tbody>\n",
       "    <tr>\n",
       "      <th>0</th>\n",
       "      <td>False</td>\n",
       "      <td>False</td>\n",
       "    </tr>\n",
       "    <tr>\n",
       "      <th>1</th>\n",
       "      <td>False</td>\n",
       "      <td>False</td>\n",
       "    </tr>\n",
       "    <tr>\n",
       "      <th>2</th>\n",
       "      <td>False</td>\n",
       "      <td>False</td>\n",
       "    </tr>\n",
       "  </tbody>\n",
       "</table>\n",
       "</div>"
      ],
      "text/plain": [
       "   price   sqft\n",
       "0  False  False\n",
       "1  False  False\n",
       "2  False  False"
      ]
     },
     "execution_count": 35,
     "metadata": {},
     "output_type": "execute_result"
    }
   ],
   "source": [
    "# isna() is a method that comes along with the DataFrame object\n",
    "\n",
    "df.isna()"
   ]
  },
  {
   "cell_type": "markdown",
   "metadata": {
    "hidden": true
   },
   "source": [
    "What other DataFrame methods do we know?"
   ]
  },
  {
   "cell_type": "code",
   "execution_count": 36,
   "metadata": {
    "hidden": true
   },
   "outputs": [
    {
     "name": "stdout",
     "output_type": "stream",
     "text": [
      "<class 'pandas.core.frame.DataFrame'>\n",
      "RangeIndex: 3 entries, 0 to 2\n",
      "Data columns (total 2 columns):\n",
      " #   Column  Non-Null Count  Dtype\n",
      "---  ------  --------------  -----\n",
      " 0   price   3 non-null      int64\n",
      " 1   sqft    3 non-null      int64\n",
      "dtypes: int64(2)\n",
      "memory usage: 176.0 bytes\n"
     ]
    },
    {
     "data": {
      "text/plain": [
       "<AxesSubplot:>"
      ]
     },
     "execution_count": 36,
     "metadata": {},
     "output_type": "execute_result"
    },
    {
     "data": {
      "image/png": "[encoded data removed]",
      "text/plain": [
       "<Figure size 432x288 with 1 Axes>"
      ]
     },
     "metadata": {
      "needs_background": "light"
     },
     "output_type": "display_data"
    }
   ],
   "source": [
    "# Other df methods\n",
    "df.info()\n",
    "df.keys()\n",
    "df.plot() # /etc\n"
   ]
  },
  {
   "cell_type": "code",
   "execution_count": 37,
   "metadata": {},
   "outputs": [
    {
     "data": {
      "text/plain": [
       "pandas.core.indexing._LocIndexer"
      ]
     },
     "execution_count": 37,
     "metadata": {},
     "output_type": "execute_result"
    }
   ],
   "source": [
    "type(df.loc)"
   ]
  },
  {
   "cell_type": "markdown",
   "metadata": {
    "heading_collapsed": true,
    "hidden": true
   },
   "source": [
    "## Building Up Our Class with Methods"
   ]
  },
  {
   "cell_type": "markdown",
   "metadata": {
    "hidden": true
   },
   "source": [
    "We can also define our own methods for our class. "
   ]
  },
  {
   "cell_type": "markdown",
   "metadata": {
    "hidden": true
   },
   "source": [
    "This requires us to use `self` in our method.\n",
    "\n",
    "Every method should include `self` as its first parameter, **which refers to the individual object, i.e. to the instance of the class**."
   ]
  },
  {
   "cell_type": "code",
   "execution_count": 38,
   "metadata": {
    "hidden": true
   },
   "outputs": [],
   "source": [
    "class Robot:\n",
    "    '''Robot class'''\n",
    "    ## These variables will belong to the Object\n",
    "    purpose = 'To love humans'\n",
    "    name = None\n",
    "\n",
    "    ## These methods belong to the Object (its \"self\")\n",
    "    \n",
    "    # Method that takes some inputs and returns like a normal function\n",
    "    def add_numbers(self, num0, num1):\n",
    "        total = num0 + num1\n",
    "        return total\n",
    "\n",
    "    # No parameters; uses attributes of the Object\n",
    "    def speak(self):\n",
    "        print(f'I am {self.name}!')\n",
    "        \n",
    "    # Modifies the Object\n",
    "    def change_name(self, new_name):\n",
    "        self.name =  new_name"
   ]
  },
  {
   "cell_type": "code",
   "execution_count": 39,
   "metadata": {
    "hidden": true
   },
   "outputs": [],
   "source": [
    "walle = Robot()"
   ]
  },
  {
   "cell_type": "code",
   "execution_count": 40,
   "metadata": {
    "hidden": true
   },
   "outputs": [
    {
     "name": "stdout",
     "output_type": "stream",
     "text": [
      "\n",
      "Name: None\n",
      "Purpose: To love humans\n",
      "\n"
     ]
    }
   ],
   "source": [
    "print(f'''\n",
    "Name: {walle.name}\n",
    "Purpose: {walle.purpose}\n",
    "''')"
   ]
  },
  {
   "cell_type": "markdown",
   "metadata": {
    "hidden": true
   },
   "source": [
    "Let's look at those fancy methods the object has"
   ]
  },
  {
   "cell_type": "code",
   "execution_count": 41,
   "metadata": {
    "hidden": true
   },
   "outputs": [
    {
     "data": {
      "text/plain": [
       "101"
      ]
     },
     "execution_count": 41,
     "metadata": {},
     "output_type": "execute_result"
    }
   ],
   "source": [
    "walle.add_numbers(100, 1)"
   ]
  },
  {
   "cell_type": "code",
   "execution_count": 42,
   "metadata": {
    "hidden": true
   },
   "outputs": [
    {
     "name": "stdout",
     "output_type": "stream",
     "text": [
      "I am None!\n"
     ]
    }
   ],
   "source": [
    "walle.speak()"
   ]
  },
  {
   "cell_type": "code",
   "execution_count": 43,
   "metadata": {
    "hidden": true
   },
   "outputs": [],
   "source": [
    "# Let's give this robot an identity\n",
    "walle.change_name(\"Wall-e\")"
   ]
  },
  {
   "cell_type": "code",
   "execution_count": 44,
   "metadata": {
    "hidden": true
   },
   "outputs": [
    {
     "name": "stdout",
     "output_type": "stream",
     "text": [
      "I am Wall-e!\n"
     ]
    }
   ],
   "source": [
    "# Now what does it say?\n",
    "walle.speak()"
   ]
  },
  {
   "cell_type": "markdown",
   "metadata": {
    "heading_collapsed": true
   },
   "source": [
    "# Magic Methods"
   ]
  },
  {
   "cell_type": "markdown",
   "metadata": {
    "hidden": true
   },
   "source": [
    "It is common for a class to have magic methods. These are identifiable by the \"dunder\" (i.e. **d**ouble **under**score) prefixes and suffixes, such as `__init__()`. These methods will get called **automatically** as a result of a different call, as we'll see below."
   ]
  },
  {
   "cell_type": "markdown",
   "metadata": {
    "hidden": true
   },
   "source": [
    "> For more on these \"magic methods\", see the documentation [here](https://docs.python.org/3/reference/datamodel.html#special-method-names) and this useful tutorial [here](https://www.geeksforgeeks.org/dunder-magic-methods-python/)."
   ]
  },
  {
   "cell_type": "markdown",
   "metadata": {
    "heading_collapsed": true,
    "hidden": true
   },
   "source": [
    "## `__init__()`"
   ]
  },
  {
   "cell_type": "markdown",
   "metadata": {
    "hidden": true
   },
   "source": [
    "When we create an instance of a class, Python invokes the __init__ to initialize the object.  Let's add __init__ to our class."
   ]
  },
  {
   "cell_type": "code",
   "execution_count": 45,
   "metadata": {},
   "outputs": [],
   "source": [
    "import random"
   ]
  },
  {
   "cell_type": "code",
   "execution_count": 46,
   "metadata": {
    "hidden": true
   },
   "outputs": [],
   "source": [
    "class Robot:\n",
    "    '''New and improved robot!'''\n",
    "    # We can still define attributes here\n",
    "    purpose = 'To love humans'\n",
    "    name = None\n",
    "    \n",
    "    # We'd like to start off with some initial attributes\n",
    "    def __init__(self,first_name=f'GOSSAMER',last_name=''):\n",
    "        self._first_name = first_name.strip()\n",
    "        self._last_name = last_name.strip()\n",
    "        self.name=f\"{self._first_name} {self._last_name}\".strip()\n",
    "        \n",
    "\n",
    "    # Method that takes some inputs and returns like a normal function\n",
    "    def add_numbers(self, num0, num1):\n",
    "        total = num0 + num1\n",
    "        return total\n",
    "\n",
    "    # No parameters; uses attributes of the Object\n",
    "    def speak(self):\n",
    "        print(f'I am {self.name}!')\n",
    "        \n",
    "    # Modifies the Object\n",
    "    def change_name(self, new_name):\n",
    "        self.name = new_name"
   ]
  },
  {
   "cell_type": "code",
   "execution_count": 47,
   "metadata": {
    "hidden": true
   },
   "outputs": [],
   "source": [
    "walle = Robot('Wall-E')\n",
    "bender = Robot('Bender', 'Rodriguez')"
   ]
  },
  {
   "cell_type": "code",
   "execution_count": 48,
   "metadata": {
    "hidden": true
   },
   "outputs": [
    {
     "name": "stdout",
     "output_type": "stream",
     "text": [
      "I am Wall-E!\n",
      "Wall-E\n"
     ]
    }
   ],
   "source": [
    "walle.speak()\n",
    "print(walle.name)"
   ]
  },
  {
   "cell_type": "code",
   "execution_count": 49,
   "metadata": {
    "hidden": true
   },
   "outputs": [
    {
     "name": "stdout",
     "output_type": "stream",
     "text": [
      "I am Bender Rodriguez!\n",
      "Bender Rodriguez\n"
     ]
    }
   ],
   "source": [
    "bender.speak()\n",
    "print(bender.name)"
   ]
  },
  {
   "cell_type": "code",
   "execution_count": 50,
   "metadata": {},
   "outputs": [
    {
     "data": {
      "text/plain": [
       "'<__main__.Robot object at 0x7f284c3bbf70>'"
      ]
     },
     "execution_count": 50,
     "metadata": {},
     "output_type": "execute_result"
    }
   ],
   "source": [
    "str(bender)"
   ]
  },
  {
   "cell_type": "markdown",
   "metadata": {
    "hidden": true
   },
   "source": [
    "> **ASIDE**\n",
    ">\n",
    "> You might notice that if you change the `_first_name` or `_last_name` property of the object, the `name` property won't update as might be desired.\n",
    "> We can adjust this functionality using _setters_ and _getters_ in Python. This is getting a bit deeper into OOP so we won't go into this now."
   ]
  },
  {
   "cell_type": "markdown",
   "metadata": {
    "heading_collapsed": true,
    "hidden": true
   },
   "source": [
    "## `__str__()`"
   ]
  },
  {
   "cell_type": "markdown",
   "metadata": {
    "hidden": true
   },
   "source": [
    " The `__str__()` magic method allows us to customize the string representation of the object. For example, when we use `print()` on the object, this magic method is called."
   ]
  },
  {
   "cell_type": "code",
   "execution_count": 51,
   "metadata": {
    "hidden": true
   },
   "outputs": [],
   "source": [
    "class Robot:\n",
    "    '''New and improved robot!'''\n",
    "    # We can still define attributes here\n",
    "    purpose = 'To love humans'\n",
    "    name = None\n",
    "    \n",
    "    # We'd like to start off with some initial attributes\n",
    "    def __init__(self, first_name='Generic', last_name=''):\n",
    "        # Clean the names of extra spaces at beginning & end\n",
    "        first_name = first_name.strip()\n",
    "        last_name = last_name.strip()\n",
    "        \n",
    "        # Setting properties\n",
    "        self._first_name = first_name\n",
    "        self._last_name = last_name\n",
    "        \n",
    "        # Combine first and last names and remove any extra spacing\n",
    "        self.name = ' '.join([first_name,last_name]).strip()\n",
    "\n",
    "    # Method that takes some inputs and returns like a normal function\n",
    "    def add_numbers(self, num0, num1):\n",
    "        total = num0 + num1\n",
    "        return total\n",
    "\n",
    "    # No parameters; uses attributes of the Object\n",
    "    def speak(self):\n",
    "        print(f'I am {self.name}!')\n",
    "        \n",
    "    # Modifies the Object\n",
    "    def change_name(self, new_name):\n",
    "        self.name =  new_name\n",
    "        \n",
    "    # We can define how it's string representation!\n",
    "    def __str__(self):\n",
    "        return f\"\"\"Robot: '{self.name\n",
    "        }'\\nPurpose: {self.purpose}\\n\"\"\"\n",
    "        "
   ]
  },
  {
   "cell_type": "code",
   "execution_count": 52,
   "metadata": {
    "hidden": true
   },
   "outputs": [],
   "source": [
    "walle = Robot('Wall-E')\n",
    "bender = Robot('Bender', 'Rodriguez')"
   ]
  },
  {
   "cell_type": "code",
   "execution_count": 53,
   "metadata": {},
   "outputs": [
    {
     "data": {
      "text/plain": [
       "'Generic'"
      ]
     },
     "execution_count": 53,
     "metadata": {},
     "output_type": "execute_result"
    }
   ],
   "source": [
    "terminator = Robot()\n",
    "terminator.name"
   ]
  },
  {
   "cell_type": "code",
   "execution_count": 54,
   "metadata": {
    "hidden": true
   },
   "outputs": [
    {
     "name": "stdout",
     "output_type": "stream",
     "text": [
      "Robot: 'Wall-E'\n",
      "Purpose: To love humans\n",
      "\n",
      "Robot: 'Bender Rodriguez'\n",
      "Purpose: To love humans\n",
      "\n"
     ]
    }
   ],
   "source": [
    "# Now we can see the string representation!\n",
    "print(walle)\n",
    "print(bender)"
   ]
  },
  {
   "cell_type": "code",
   "execution_count": 55,
   "metadata": {
    "hidden": true
   },
   "outputs": [
    {
     "name": "stdout",
     "output_type": "stream",
     "text": [
      "This is Robot: 'Wall-E'\n",
      "Purpose: To love humans\n",
      "\n"
     ]
    }
   ],
   "source": [
    "print(f'This is {str(walle)}')"
   ]
  },
  {
   "cell_type": "code",
   "execution_count": 56,
   "metadata": {},
   "outputs": [
    {
     "data": {
      "text/plain": [
       "'Wall-E'"
      ]
     },
     "execution_count": 56,
     "metadata": {},
     "output_type": "execute_result"
    }
   ],
   "source": [
    "walle._first_name"
   ]
  },
  {
   "cell_type": "markdown",
   "metadata": {},
   "source": [
    "## Objectives Recap"
   ]
  },
  {
   "cell_type": "markdown",
   "metadata": {},
   "source": [
    "- Understand the concept of **classes** and **objects**\n",
    "- Explain the idea that _\"everything in Python is an object\"_\n",
    "- Use the concept of an object's **property**\n",
    "- Use the concept of an object's **method**"
   ]
  },
  {
   "cell_type": "markdown",
   "metadata": {
    "heading_collapsed": true
   },
   "source": [
    "# Level Up: `*args` and `**kwargs`"
   ]
  },
  {
   "cell_type": "markdown",
   "metadata": {
    "hidden": true
   },
   "source": [
    "There are times when we want to have more flexibility in how we pass parameters to our functions/methods."
   ]
  },
  {
   "cell_type": "markdown",
   "metadata": {
    "hidden": true
   },
   "source": [
    "There's a whole lot we can discuss on this (checkout the [argument](https://docs.python.org/3/glossary.html#term-argument) & [parameter](https://docs.python.org/3/glossary.html#term-parameter) documentation for more details), but specifically we'll briefly discuss using `*args` and `**kwargs` in our functions/methods"
   ]
  },
  {
   "cell_type": "markdown",
   "metadata": {
    "hidden": true
   },
   "source": [
    "> **NOTE**\n",
    ">\n",
    "> `*args` and `**kwargs` can be used in methods (functions associated with classes & objects) or in plain functions"
   ]
  },
  {
   "cell_type": "markdown",
   "metadata": {
    "heading_collapsed": true,
    "hidden": true
   },
   "source": [
    "## `*` Operator: `*args`"
   ]
  },
  {
   "cell_type": "markdown",
   "metadata": {
    "hidden": true
   },
   "source": [
    "The single-asterisk operator `*` can be used to unpack iterables."
   ]
  },
  {
   "cell_type": "markdown",
   "metadata": {
    "hidden": true
   },
   "source": [
    "Suppose I am building a function that will return the product of inputted numbers. I might start with this:"
   ]
  },
  {
   "cell_type": "code",
   "execution_count": 57,
   "metadata": {
    "hidden": true
   },
   "outputs": [],
   "source": [
    "def product(factor1, factor2):\n",
    "    out = factor1 * factor2\n",
    "    return out"
   ]
  },
  {
   "cell_type": "markdown",
   "metadata": {
    "hidden": true
   },
   "source": [
    "But if I want the product of *three* numbers this function won't do:\n",
    "\n",
    "```python\n",
    "product(3, 5, 6)\n",
    "```"
   ]
  },
  {
   "cell_type": "markdown",
   "metadata": {
    "hidden": true
   },
   "source": [
    "A nice way around this problem is to use the `*` operator."
   ]
  },
  {
   "cell_type": "code",
   "execution_count": 58,
   "metadata": {
    "hidden": true
   },
   "outputs": [],
   "source": [
    "def product_better(*factors):\n",
    "    out = 1\n",
    "    for f in factors:\n",
    "        out *= f\n",
    "    return out"
   ]
  },
  {
   "cell_type": "code",
   "execution_count": 59,
   "metadata": {
    "hidden": true
   },
   "outputs": [
    {
     "data": {
      "text/plain": [
       "2"
      ]
     },
     "execution_count": 59,
     "metadata": {},
     "output_type": "execute_result"
    }
   ],
   "source": [
    "product_better(2)"
   ]
  },
  {
   "cell_type": "code",
   "execution_count": 60,
   "metadata": {
    "hidden": true
   },
   "outputs": [
    {
     "data": {
      "text/plain": [
       "8"
      ]
     },
     "execution_count": 60,
     "metadata": {},
     "output_type": "execute_result"
    }
   ],
   "source": [
    "product_better(2, 4)"
   ]
  },
  {
   "cell_type": "code",
   "execution_count": 61,
   "metadata": {
    "hidden": true
   },
   "outputs": [
    {
     "data": {
      "text/plain": [
       "32768"
      ]
     },
     "execution_count": 61,
     "metadata": {},
     "output_type": "execute_result"
    }
   ],
   "source": [
    "product_better(2, 4, 8, 16, 32)"
   ]
  },
  {
   "cell_type": "markdown",
   "metadata": {
    "hidden": true
   },
   "source": [
    "We can also use this notation to unpack an iterable to a function and will use each value as a _positional parameter_."
   ]
  },
  {
   "cell_type": "code",
   "execution_count": 62,
   "metadata": {
    "hidden": true
   },
   "outputs": [
    {
     "name": "stdout",
     "output_type": "stream",
     "text": [
      "1 2 3 4 5\n"
     ]
    },
    {
     "data": {
      "text/plain": [
       "120"
      ]
     },
     "execution_count": 62,
     "metadata": {},
     "output_type": "execute_result"
    }
   ],
   "source": [
    "my_list_of_numbers = [1,2,3,4,5]\n",
    "\n",
    "print(*my_list_of_numbers)\n",
    "product_better(*my_list_of_numbers)"
   ]
  },
  {
   "cell_type": "code",
   "execution_count": 63,
   "metadata": {
    "hidden": true
   },
   "outputs": [
    {
     "name": "stdout",
     "output_type": "stream",
     "text": [
      "2 4 6 8\n"
     ]
    },
    {
     "data": {
      "text/plain": [
       "384"
      ]
     },
     "execution_count": 63,
     "metadata": {},
     "output_type": "execute_result"
    }
   ],
   "source": [
    "# Works for other iterables too!\n",
    "\n",
    "my_range = range(2,10,2)\n",
    "\n",
    "print(*my_range)\n",
    "product_better(*my_range)"
   ]
  },
  {
   "cell_type": "markdown",
   "metadata": {
    "heading_collapsed": true,
    "hidden": true
   },
   "source": [
    "## `**` Operator: `*kwargs`"
   ]
  },
  {
   "cell_type": "markdown",
   "metadata": {
    "hidden": true
   },
   "source": [
    "The double-asterisk operator  `∗∗`  is used for _keyword arguments_, i.e. _named arguments_."
   ]
  },
  {
   "cell_type": "code",
   "execution_count": 64,
   "metadata": {
    "hidden": true
   },
   "outputs": [],
   "source": [
    "def hello_to_the_office(**kwargs):\n",
    "    hello_strs = []\n",
    "    # Iterate through each item of kwargs (a dictionary!)\n",
    "    for position_title, name in kwargs.items():\n",
    "        # Note that the keys are going to be treated as a string\n",
    "        hello_strs.append(f'Hi {name}, the {position_title.title()}!')\n",
    "    \n",
    "    print('\\n'.join(hello_strs))"
   ]
  },
  {
   "cell_type": "code",
   "execution_count": 79,
   "metadata": {
    "hidden": true
   },
   "outputs": [
    {
     "name": "stdout",
     "output_type": "stream",
     "text": [
      "Hi Michael, the Regional_Manager!\n",
      "Hi Pam, the Office_Administrator!\n",
      "Hi Jim, the Regional_Co_Manager!\n",
      "Hi Dwight, the Asssistant_To_The_Regional_Manager!\n"
     ]
    }
   ],
   "source": [
    "hello_to_the_office(\n",
    "    regional_manager='Michael',\n",
    "    office_administrator='Pam',\n",
    "    regional_co_manager='Jim',\n",
    "    asssistant_to_the_regional_manager='Dwight'\n",
    ")"
   ]
  },
  {
   "cell_type": "markdown",
   "metadata": {
    "hidden": true
   },
   "source": [
    "Here's a more complicated function that also uses `**kwargs`"
   ]
  },
  {
   "cell_type": "code",
   "execution_count": 80,
   "metadata": {
    "hidden": true
   },
   "outputs": [],
   "source": [
    "def report(to_print=True, **kwargs):\n",
    "    \n",
    "    # Effectively, kwargs is a dictionary\n",
    "    the_keys = ';'.join(kwargs.keys())\n",
    "    the_values = kwargs.values()\n",
    "    \n",
    "    # Note the safe way of getting the values\n",
    "    if kwargs.get('is_bot'):\n",
    "        print('ROBOT ALERT!!')\n",
    "    \n",
    "    if to_print:\n",
    "        print(f'''\n",
    "            The Keys:\n",
    "                {the_keys}\n",
    "            The Values:\n",
    "                {the_values}\n",
    "        ''')\n",
    "    else:\n",
    "        return the_keys, the_values"
   ]
  },
  {
   "cell_type": "code",
   "execution_count": 75,
   "metadata": {
    "hidden": true
   },
   "outputs": [
    {
     "name": "stdout",
     "output_type": "stream",
     "text": [
      "\n",
      "            The Keys:\n",
      "                name;birth_year\n",
      "            The Values:\n",
      "                dict_values(['Fry', 1985])\n",
      "        \n"
     ]
    }
   ],
   "source": [
    "# Note that these arguments were never defined in the report() function\n",
    "report(name='Fry', birth_year=1985)"
   ]
  },
  {
   "cell_type": "code",
   "execution_count": 76,
   "metadata": {
    "hidden": true
   },
   "outputs": [
    {
     "name": "stdout",
     "output_type": "stream",
     "text": [
      "ROBOT ALERT!!\n",
      "\n",
      "            The Keys:\n",
      "                name;titanium_level;birth_year;is_bot\n",
      "            The Values:\n",
      "                dict_values(['Bender', 0.4, 2996, True])\n",
      "        \n"
     ]
    }
   ],
   "source": [
    "report(name='Bender', titanium_level=0.4, birth_year=2996, is_bot=True)"
   ]
  },
  {
   "cell_type": "markdown",
   "metadata": {
    "hidden": true
   },
   "source": [
    "We can also use the `**` operator to unpack a dictionary to a function as _named parameters_."
   ]
  },
  {
   "cell_type": "code",
   "execution_count": 77,
   "metadata": {
    "hidden": true
   },
   "outputs": [],
   "source": [
    "def named_parameter_function(param0, param1, default=10):\n",
    "    return (param0, param1, default)"
   ]
  },
  {
   "cell_type": "code",
   "execution_count": 78,
   "metadata": {
    "hidden": true
   },
   "outputs": [
    {
     "data": {
      "text/plain": [
       "('Zero', 10000, False)"
      ]
     },
     "execution_count": 78,
     "metadata": {},
     "output_type": "execute_result"
    }
   ],
   "source": [
    "my_params = {'param0':'Zero', 'param1':10000, 'default':False}\n",
    "\n",
    "named_parameter_function(**my_params)"
   ]
  }
 ],
 "metadata": {
  "kernelspec": {
   "display_name": "learn-env",
   "language": "python",
   "name": "python3"
  },
  "language_info": {
   "codemirror_mode": {
    "name": "ipython",
    "version": 3
   },
   "file_extension": ".py",
   "mimetype": "text/x-python",
   "name": "python",
   "nbconvert_exporter": "python",
   "pygments_lexer": "ipython3",
   "version": "3.8.5"
  },
  "toc": {
   "base_numbering": 1,
   "nav_menu": {},
   "number_sections": true,
   "sideBar": true,
   "skip_h1_title": false,
   "title_cell": "Table of Contents",
   "title_sidebar": "TOC",
   "toc_cell": true,
   "toc_position": {
    "height": "439px",
    "left": "10px",
    "top": "150px",
    "width": "363px"
   },
   "toc_section_display": true,
   "toc_window_display": true
  }
 },
 "nbformat": 4,
 "nbformat_minor": 4
}
